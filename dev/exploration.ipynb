{
 "metadata": {
  "language_info": {
   "codemirror_mode": {
    "name": "ipython",
    "version": 3
   },
   "file_extension": ".py",
   "mimetype": "text/x-python",
   "name": "python",
   "nbconvert_exporter": "python",
   "pygments_lexer": "ipython3",
   "version": "3.9.1"
  },
  "orig_nbformat": 2,
  "kernelspec": {
   "name": "python3",
   "display_name": "Python 3.9.1 64-bit ('virtual_env': venv)",
   "metadata": {
    "interpreter": {
     "hash": "ae520ac60bc58bf887efe3d8b884bb1031c488da0214529d17ecae648d5e994e"
    }
   }
  }
 },
 "nbformat": 4,
 "nbformat_minor": 2,
 "cells": [
  {
   "cell_type": "code",
   "execution_count": 2,
   "metadata": {},
   "outputs": [],
   "source": [
    "from matplotlib import pyplot as plt\n",
    "import zipfile\n",
    "import tempfile\n",
    "import requests\n",
    "import os\n",
    "import numpy as np\n",
    "import pandas as pd"
   ]
  },
  {
   "cell_type": "code",
   "execution_count": 158,
   "metadata": {},
   "outputs": [],
   "source": [
    "#GLOBAL\n",
    "SELECT_ALL_QUESTIONS = ['SPNDSRC1', 'SPNDSRC2', 'SPNDSRC3', 'SPNDSRC4', 'SPNDSRC5', 'SPNDSRC6', 'SPNDSRC7', 'SPNDSRC8']\n",
    "\n",
    "def get_puf_data(first_week, last_week):\n",
    "    '''\n",
    "    download puf files for the given weeks and concatenate the datasets\n",
    "    '''\n",
    "    df = pd.DataFrame()\n",
    "    for i in range(first_week,last_week+1):\n",
    "        y = 2020\n",
    "        if i>=22:\n",
    "            y=2021\n",
    "        file_str = \"pulse{}_puf_{}.csv\".format(y,i)\n",
    "        url_str = \"https://www2.census.gov/programs-surveys/demo/datasets/hhp/{yr}/wk{w}/HPS_Week{w}_PUF_CSV.zip\".format(yr=y,w=i)\n",
    "        week_df = download_url(url_str, file_str, y, i)\n",
    "        df = pd.concat([df,week_df])\n",
    "\n",
    "    return df\n",
    "\n",
    "\n",
    "def download_url(url_str,file_str, year, week, chunk_size=128):\n",
    "    '''\n",
    "    download puf, avoid intermediate save to disk\n",
    "    '''\n",
    "    df = pd.DataFrame()\n",
    "    r = requests.get(url_str)\n",
    "    print(r)\n",
    "    #temp directory rather than file to hopefully accomodate windows users\n",
    "    with tempfile.TemporaryDirectory() as td:\n",
    "        f_name = os.path.join(td, 'week_{}'.format(week))\n",
    "        with open(f_name, 'wb') as fh:\n",
    "            for chunk in r.iter_content(chunk_size=chunk_size):\n",
    "                fh.write(chunk)\n",
    "        zf = zipfile.ZipFile(f_name)\n",
    "        df = pd.read_csv(zf.open(file_str))\n",
    "        df1 = pd.read_csv(zf.open(\"pulse{}_repwgt_puf_{}.csv\".format(year,week)))\n",
    "        zf.close()\n",
    "        r.close()\n",
    "\n",
    "    return pd.merge(df,df1,on=[\"SCRAM\",\"WEEK\"],how=\"inner\")\n",
    "\n",
    "\n",
    "def get_std_err(df, weight):\n",
    "    #make 1d array of weight col\n",
    "    obs_wgts = df[weight].to_numpy().reshape(len(df),1)\n",
    "    \n",
    "    #make 80d array of replicate weights\n",
    "    rep_wgts = df[[i for i in df.columns if weight in i and not i == weight]].to_numpy()\n",
    "    \n",
    "    #return standard error of estimate\n",
    "    return np.sqrt((np.sum(np.square(rep_wgts-obs_wgts),axis=1)*(4/80)))\n",
    "############\n",
    "\n",
    "def freq_crosstab(df, col_list, weight, critical_val=1):\n",
    "    '''\n",
    "\n",
    "    '''\n",
    "    \n",
    "    pt_estimates = df.groupby(col_list, as_index=True)[[i for i in df.columns if weight in i]].agg('sum')\n",
    "    pt_estimates['std_err'] = get_std_err(pt_estimates, weight)\n",
    "    pt_estimates['mrgn_err'] = pt_estimates.std_err * critical_val\n",
    "\n",
    "    return pt_estimates[[weight, 'std_err','mrgn_err']].reset_index()\n",
    "\n",
    "def full_crosstab(df, col_list, weight, proportion_level, critical_val=1):\n",
    "    df1 = df.copy()\n",
    "    detail = freq_crosstab(df1, col_list, weight, critical_val)\n",
    "    top = freq_crosstab(df1, proportion_level, weight, critical_val)\n",
    "    \n",
    "    rv = detail.merge(top,'left',proportion_level,suffixes=('_full','_demo'))\n",
    "    rv['proportions'] = rv[weight+'_full']/rv[weight+'_demo']\n",
    "    return rv\n",
    "\n",
    "def bulk_crosstabs(df, idx_list, ct_list, q_list, weight='PWEIGHT', critical_val=1):\n",
    "    rv = pd.DataFrame()\n",
    "    input_df = df.copy()\n",
    "    input_df[SELECT_ALL_QUESTIONS] = input_df[SELECT_ALL_QUESTIONS].replace('-99','0 - not selected')\n",
    "    input_df.replace(['-88','-99'],np.nan,inplace=True)\n",
    "    for ct in ct_list:\n",
    "        for q in q_list:\n",
    "            full = idx_list + [ct, q]\n",
    "            abstract = idx_list + [ct]\n",
    "            temp = input_df[-input_df[full].isna().any(axis=1)]\n",
    "            curr_bin = full_crosstab(temp,full,\n",
    "                            weight,\n",
    "                            abstract,\n",
    "                            critical_val=critical_val).round(2)\n",
    "            curr_bin.rename(columns={q:'q_val',ct:'ct_val'},inplace=True)\n",
    "            curr_bin['ct_var'] = ct\n",
    "            curr_bin['q_var'] = q\n",
    "            rv = pd.concat([rv,curr_bin])\n",
    "    return rv"
   ]
  },
  {
   "cell_type": "code",
   "execution_count": 87,
   "metadata": {},
   "outputs": [
    {
     "output_type": "stream",
     "name": "stdout",
     "text": [
      "<Response [200]>\n",
      "<Response [200]>\n",
      "<Response [200]>\n",
      "<Response [200]>\n",
      "<Response [200]>\n",
      "<Response [200]>\n",
      "<Response [200]>\n",
      "<Response [200]>\n",
      "<Response [200]>\n",
      "<Response [200]>\n"
     ]
    }
   ],
   "source": [
    "core_df = get_puf_data(13,22)"
   ]
  },
  {
   "source": [
    "## Tie Out Housing 1b Table"
   ],
   "cell_type": "markdown",
   "metadata": {}
  },
  {
   "cell_type": "code",
   "execution_count": 90,
   "metadata": {},
   "outputs": [
    {
     "output_type": "execute_result",
     "data": {
      "text/plain": [
       "   EGENDER  rent_check  PWEIGHT_full  std_err_full  mrgn_err_full  \\\n",
       "0        1         -99      65521.28      22916.93       22916.93   \n",
       "1        1         -88   95767609.18     616700.77      616700.77   \n",
       "2        1           1   18984062.29     625926.33      625926.33   \n",
       "3        1           2    4161891.23     265570.79      265570.79   \n",
       "4        1           4    1552526.03     178942.97      178942.97   \n",
       "5        2         -99      52740.11      18792.06       18792.06   \n",
       "6        2         -88   97179048.55     516318.86      516318.86   \n",
       "7        2           1   23721816.46     458667.57      458667.57   \n",
       "8        2           2    5974193.24     289729.34      289729.34   \n",
       "9        2           4    1711507.64     145060.18      145060.18   \n",
       "\n",
       "   PWEIGHT_demo  std_err_demo  mrgn_err_demo  proportions  \n",
       "0   120531610.0           0.0            0.0         0.00  \n",
       "1   120531610.0           0.0            0.0         0.79  \n",
       "2   120531610.0           0.0            0.0         0.16  \n",
       "3   120531610.0           0.0            0.0         0.03  \n",
       "4   120531610.0           0.0            0.0         0.01  \n",
       "5   128639306.0           0.0            0.0         0.00  \n",
       "6   128639306.0           0.0            0.0         0.76  \n",
       "7   128639306.0           0.0            0.0         0.18  \n",
       "8   128639306.0           0.0            0.0         0.05  \n",
       "9   128639306.0           0.0            0.0         0.01  "
      ],
      "text/html": "<div>\n<style scoped>\n    .dataframe tbody tr th:only-of-type {\n        vertical-align: middle;\n    }\n\n    .dataframe tbody tr th {\n        vertical-align: top;\n    }\n\n    .dataframe thead th {\n        text-align: right;\n    }\n</style>\n<table border=\"1\" class=\"dataframe\">\n  <thead>\n    <tr style=\"text-align: right;\">\n      <th></th>\n      <th>EGENDER</th>\n      <th>rent_check</th>\n      <th>PWEIGHT_full</th>\n      <th>std_err_full</th>\n      <th>mrgn_err_full</th>\n      <th>PWEIGHT_demo</th>\n      <th>std_err_demo</th>\n      <th>mrgn_err_demo</th>\n      <th>proportions</th>\n    </tr>\n  </thead>\n  <tbody>\n    <tr>\n      <th>0</th>\n      <td>1</td>\n      <td>-99</td>\n      <td>65521.28</td>\n      <td>22916.93</td>\n      <td>22916.93</td>\n      <td>120531610.0</td>\n      <td>0.0</td>\n      <td>0.0</td>\n      <td>0.00</td>\n    </tr>\n    <tr>\n      <th>1</th>\n      <td>1</td>\n      <td>-88</td>\n      <td>95767609.18</td>\n      <td>616700.77</td>\n      <td>616700.77</td>\n      <td>120531610.0</td>\n      <td>0.0</td>\n      <td>0.0</td>\n      <td>0.79</td>\n    </tr>\n    <tr>\n      <th>2</th>\n      <td>1</td>\n      <td>1</td>\n      <td>18984062.29</td>\n      <td>625926.33</td>\n      <td>625926.33</td>\n      <td>120531610.0</td>\n      <td>0.0</td>\n      <td>0.0</td>\n      <td>0.16</td>\n    </tr>\n    <tr>\n      <th>3</th>\n      <td>1</td>\n      <td>2</td>\n      <td>4161891.23</td>\n      <td>265570.79</td>\n      <td>265570.79</td>\n      <td>120531610.0</td>\n      <td>0.0</td>\n      <td>0.0</td>\n      <td>0.03</td>\n    </tr>\n    <tr>\n      <th>4</th>\n      <td>1</td>\n      <td>4</td>\n      <td>1552526.03</td>\n      <td>178942.97</td>\n      <td>178942.97</td>\n      <td>120531610.0</td>\n      <td>0.0</td>\n      <td>0.0</td>\n      <td>0.01</td>\n    </tr>\n    <tr>\n      <th>5</th>\n      <td>2</td>\n      <td>-99</td>\n      <td>52740.11</td>\n      <td>18792.06</td>\n      <td>18792.06</td>\n      <td>128639306.0</td>\n      <td>0.0</td>\n      <td>0.0</td>\n      <td>0.00</td>\n    </tr>\n    <tr>\n      <th>6</th>\n      <td>2</td>\n      <td>-88</td>\n      <td>97179048.55</td>\n      <td>516318.86</td>\n      <td>516318.86</td>\n      <td>128639306.0</td>\n      <td>0.0</td>\n      <td>0.0</td>\n      <td>0.76</td>\n    </tr>\n    <tr>\n      <th>7</th>\n      <td>2</td>\n      <td>1</td>\n      <td>23721816.46</td>\n      <td>458667.57</td>\n      <td>458667.57</td>\n      <td>128639306.0</td>\n      <td>0.0</td>\n      <td>0.0</td>\n      <td>0.18</td>\n    </tr>\n    <tr>\n      <th>8</th>\n      <td>2</td>\n      <td>2</td>\n      <td>5974193.24</td>\n      <td>289729.34</td>\n      <td>289729.34</td>\n      <td>128639306.0</td>\n      <td>0.0</td>\n      <td>0.0</td>\n      <td>0.05</td>\n    </tr>\n    <tr>\n      <th>9</th>\n      <td>2</td>\n      <td>4</td>\n      <td>1711507.64</td>\n      <td>145060.18</td>\n      <td>145060.18</td>\n      <td>128639306.0</td>\n      <td>0.0</td>\n      <td>0.0</td>\n      <td>0.01</td>\n    </tr>\n  </tbody>\n</table>\n</div>"
     },
     "metadata": {},
     "execution_count": 90
    }
   ],
   "source": [
    "test_df = core_df[core_df.WEEK==21].copy()\n",
    "test_df['rent_check'] = test_df.apply(lambda x: 4 if x.TENURE==4 else x.RENTCUR, axis=1)\n",
    "test_df['race_eth'] = test_df.apply(lambda x: 5 if x.RHISPANIC==2 else x.RRACE, axis=1)\n",
    "full_crosstab(test_df, ['EGENDER', 'rent_check'], 'PWEIGHT', ['EGENDER'],critical_val=1).round(2)"
   ]
  },
  {
   "cell_type": "code",
   "execution_count": 44,
   "metadata": {},
   "outputs": [],
   "source": [
    "states = {1:'Alabama',2:'Alaska',4:'Arizona',5:'Arkansas',6:'California',\n",
    "    8:'Colorado',9:'Connecticut',10:'Delaware',11:'District of Columbia',12:'Florida',\n",
    "    13:'Georgia',15:'Hawaii',16:'Idaho',17:'Illinois',18:'Indiana',19:'Iowa',20:'Kansas',21:'Kentucky',\n",
    "    22:'Louisiana',23:'Maine',24:'Maryland',25:'Massachusetts',26:'Michigan',27:'Minnesota',\n",
    "    28:'Mississippi',29:'Missouri',30:'Montana',31:'Nebraska',32:'Nevada',33:'New Hampshire',\n",
    "    34:'New Jersey',35:'New Mexico',36:'New York',37:'North Carolina',38:'North Dakota',39:'Ohio',\n",
    "    40:'Oklahoma',41:'Oregon',42:'Pennsylvania',44:'Rhode Island',45:'South Carolina',\n",
    "    46:'South Dakota',47:'Tennessee',48:'Texas',49:'Utah',50:'Vermont',51:'Virginia',\n",
    "    53:'Washington',54:'West Virginia',55:'Wisconsin',56:'Wyoming'}\n",
    "regions = {1:'NE',2:'S',3:'MW',4:'W'}\n",
    "metros = {35620:'New York',31080:'Los Angeles',16980:'Chicago',19100:'Dallas',\n",
    "          26420:'Houston',47900:'DC',33100:'Miami',37980:'Philadelphia',\n",
    "          12060:'Atlanta',38060:'Phoenix',14460:'Boston',41860:'San Francisco',\n",
    "          40140:'Riverside CA',19820:'Detroit',42660:'Seattle'}\n",
    "races = {1:'white',2:'black',3:'Asian',4:'Other'}\n",
    "rents = {1:'current',2:'behind'}\n",
    "df1 = core_df.copy()\n",
    "df1['metro'] = df1.EST_MSA.map(metros) \n",
    "df1['state'] = df1.EST_ST.map(states)\n",
    "df1['region'] = df1.REGION.map(regions)\n",
    "df1['race'] = df1.RRACE.map(races)\n",
    "df1['rent'] = df1.RENTCUR.map(rents)"
   ]
  },
  {
   "cell_type": "code",
   "execution_count": 17,
   "metadata": {},
   "outputs": [
    {
     "output_type": "execute_result",
     "data": {
      "text/plain": [
       "                       SCRAM  WEEK  EST_ST  EST_MSA  REGION      HWEIGHT  \\\n",
       "0  V130000001S12010403200123    13      48  19100.0       2  1276.886650   \n",
       "1  V130000001S34010154300113    13       1      NaN       2  1195.578846   \n",
       "2  V130000001S37010241600123    13       1      NaN       2  1124.648326   \n",
       "3  V130000001S37010645600123    13       1      NaN       2   517.598058   \n",
       "4  V130000001S70011963510113    13       1      NaN       2   432.646602   \n",
       "\n",
       "       PWEIGHT  TBIRTH_YEAR  ABIRTH_YEAR  EGENDER  ...  EIPSPND4  EIPSPND5  \\\n",
       "0  1278.107099         1989            2        1  ...       NaN       NaN   \n",
       "1  2323.078960         1988            2        2  ...       NaN       NaN   \n",
       "2  1092.628425         1969            2        1  ...       NaN       NaN   \n",
       "3  1005.723011         1947            2        1  ...       NaN       NaN   \n",
       "4   840.657411         1968            2        2  ...       NaN       NaN   \n",
       "\n",
       "   EIPSPND6  EIPSPND7  EIPSPND8  EIPSPND9  EIPSPND10  EIPSPND11  EIPSPND12  \\\n",
       "0       NaN       NaN       NaN       NaN        NaN        NaN        NaN   \n",
       "1       NaN       NaN       NaN       NaN        NaN        NaN        NaN   \n",
       "2       NaN       NaN       NaN       NaN        NaN        NaN        NaN   \n",
       "3       NaN       NaN       NaN       NaN        NaN        NaN        NaN   \n",
       "4       NaN       NaN       NaN       NaN        NaN        NaN        NaN   \n",
       "\n",
       "   EIPSPND13  \n",
       "0        NaN  \n",
       "1        NaN  \n",
       "2        NaN  \n",
       "3        NaN  \n",
       "4        NaN  \n",
       "\n",
       "[5 rows x 383 columns]"
      ],
      "text/html": "<div>\n<style scoped>\n    .dataframe tbody tr th:only-of-type {\n        vertical-align: middle;\n    }\n\n    .dataframe tbody tr th {\n        vertical-align: top;\n    }\n\n    .dataframe thead th {\n        text-align: right;\n    }\n</style>\n<table border=\"1\" class=\"dataframe\">\n  <thead>\n    <tr style=\"text-align: right;\">\n      <th></th>\n      <th>SCRAM</th>\n      <th>WEEK</th>\n      <th>EST_ST</th>\n      <th>EST_MSA</th>\n      <th>REGION</th>\n      <th>HWEIGHT</th>\n      <th>PWEIGHT</th>\n      <th>TBIRTH_YEAR</th>\n      <th>ABIRTH_YEAR</th>\n      <th>EGENDER</th>\n      <th>...</th>\n      <th>EIPSPND4</th>\n      <th>EIPSPND5</th>\n      <th>EIPSPND6</th>\n      <th>EIPSPND7</th>\n      <th>EIPSPND8</th>\n      <th>EIPSPND9</th>\n      <th>EIPSPND10</th>\n      <th>EIPSPND11</th>\n      <th>EIPSPND12</th>\n      <th>EIPSPND13</th>\n    </tr>\n  </thead>\n  <tbody>\n    <tr>\n      <th>0</th>\n      <td>V130000001S12010403200123</td>\n      <td>13</td>\n      <td>48</td>\n      <td>19100.0</td>\n      <td>2</td>\n      <td>1276.886650</td>\n      <td>1278.107099</td>\n      <td>1989</td>\n      <td>2</td>\n      <td>1</td>\n      <td>...</td>\n      <td>NaN</td>\n      <td>NaN</td>\n      <td>NaN</td>\n      <td>NaN</td>\n      <td>NaN</td>\n      <td>NaN</td>\n      <td>NaN</td>\n      <td>NaN</td>\n      <td>NaN</td>\n      <td>NaN</td>\n    </tr>\n    <tr>\n      <th>1</th>\n      <td>V130000001S34010154300113</td>\n      <td>13</td>\n      <td>1</td>\n      <td>NaN</td>\n      <td>2</td>\n      <td>1195.578846</td>\n      <td>2323.078960</td>\n      <td>1988</td>\n      <td>2</td>\n      <td>2</td>\n      <td>...</td>\n      <td>NaN</td>\n      <td>NaN</td>\n      <td>NaN</td>\n      <td>NaN</td>\n      <td>NaN</td>\n      <td>NaN</td>\n      <td>NaN</td>\n      <td>NaN</td>\n      <td>NaN</td>\n      <td>NaN</td>\n    </tr>\n    <tr>\n      <th>2</th>\n      <td>V130000001S37010241600123</td>\n      <td>13</td>\n      <td>1</td>\n      <td>NaN</td>\n      <td>2</td>\n      <td>1124.648326</td>\n      <td>1092.628425</td>\n      <td>1969</td>\n      <td>2</td>\n      <td>1</td>\n      <td>...</td>\n      <td>NaN</td>\n      <td>NaN</td>\n      <td>NaN</td>\n      <td>NaN</td>\n      <td>NaN</td>\n      <td>NaN</td>\n      <td>NaN</td>\n      <td>NaN</td>\n      <td>NaN</td>\n      <td>NaN</td>\n    </tr>\n    <tr>\n      <th>3</th>\n      <td>V130000001S37010645600123</td>\n      <td>13</td>\n      <td>1</td>\n      <td>NaN</td>\n      <td>2</td>\n      <td>517.598058</td>\n      <td>1005.723011</td>\n      <td>1947</td>\n      <td>2</td>\n      <td>1</td>\n      <td>...</td>\n      <td>NaN</td>\n      <td>NaN</td>\n      <td>NaN</td>\n      <td>NaN</td>\n      <td>NaN</td>\n      <td>NaN</td>\n      <td>NaN</td>\n      <td>NaN</td>\n      <td>NaN</td>\n      <td>NaN</td>\n    </tr>\n    <tr>\n      <th>4</th>\n      <td>V130000001S70011963510113</td>\n      <td>13</td>\n      <td>1</td>\n      <td>NaN</td>\n      <td>2</td>\n      <td>432.646602</td>\n      <td>840.657411</td>\n      <td>1968</td>\n      <td>2</td>\n      <td>2</td>\n      <td>...</td>\n      <td>NaN</td>\n      <td>NaN</td>\n      <td>NaN</td>\n      <td>NaN</td>\n      <td>NaN</td>\n      <td>NaN</td>\n      <td>NaN</td>\n      <td>NaN</td>\n      <td>NaN</td>\n      <td>NaN</td>\n    </tr>\n  </tbody>\n</table>\n<p>5 rows × 383 columns</p>\n</div>"
     },
     "metadata": {},
     "execution_count": 17
    }
   ],
   "source": [
    "df1.head()"
   ]
  },
  {
   "source": [
    "## Metro Evictions, Metro Behind Rent"
   ],
   "cell_type": "markdown",
   "metadata": {}
  },
  {
   "cell_type": "code",
   "execution_count": 42,
   "metadata": {},
   "outputs": [
    {
     "output_type": "execute_result",
     "data": {
      "text/plain": [
       "     WEEK    metro  evict_bool  PWEIGHT_full  std_err_full  mrgn_err_full  \\\n",
       "23     13  Phoenix           1      49933.31      18323.58       18323.58   \n",
       "53     14  Phoenix           1      22140.62       6142.48        6142.48   \n",
       "83     15  Phoenix           1      28129.84       9734.82        9734.82   \n",
       "113    16  Phoenix           1      24733.99       8595.58        8595.58   \n",
       "143    17  Phoenix           1      51226.65      12256.61       12256.61   \n",
       "173    18  Phoenix           1     161165.39      68020.23       68020.23   \n",
       "203    19  Phoenix           1      46668.35      14470.31       14470.31   \n",
       "233    20  Phoenix           1      68250.37      21987.93       21987.93   \n",
       "263    21  Phoenix           1      44242.74      16934.26       16934.26   \n",
       "293    22  Phoenix           1      84811.47      32687.70       32687.70   \n",
       "\n",
       "     PWEIGHT_demo  std_err_demo  mrgn_err_demo  proportions  \n",
       "23      102490.28      26782.72       26782.72         0.49  \n",
       "53       68365.49      17708.66       17708.66         0.32  \n",
       "83       83649.02      22477.15       22477.15         0.34  \n",
       "113      94287.97      24035.15       24035.15         0.26  \n",
       "143     100013.57      23849.52       23849.52         0.51  \n",
       "173     220968.36      71308.08       71308.08         0.73  \n",
       "203     112898.81      31522.69       31522.69         0.41  \n",
       "233     122071.86      28173.88       28173.88         0.56  \n",
       "263     106262.11      26537.86       26537.86         0.42  \n",
       "293     109704.60      36972.23       36972.23         0.77  "
      ],
      "text/html": "<div>\n<style scoped>\n    .dataframe tbody tr th:only-of-type {\n        vertical-align: middle;\n    }\n\n    .dataframe tbody tr th {\n        vertical-align: top;\n    }\n\n    .dataframe thead th {\n        text-align: right;\n    }\n</style>\n<table border=\"1\" class=\"dataframe\">\n  <thead>\n    <tr style=\"text-align: right;\">\n      <th></th>\n      <th>WEEK</th>\n      <th>metro</th>\n      <th>evict_bool</th>\n      <th>PWEIGHT_full</th>\n      <th>std_err_full</th>\n      <th>mrgn_err_full</th>\n      <th>PWEIGHT_demo</th>\n      <th>std_err_demo</th>\n      <th>mrgn_err_demo</th>\n      <th>proportions</th>\n    </tr>\n  </thead>\n  <tbody>\n    <tr>\n      <th>23</th>\n      <td>13</td>\n      <td>Phoenix</td>\n      <td>1</td>\n      <td>49933.31</td>\n      <td>18323.58</td>\n      <td>18323.58</td>\n      <td>102490.28</td>\n      <td>26782.72</td>\n      <td>26782.72</td>\n      <td>0.49</td>\n    </tr>\n    <tr>\n      <th>53</th>\n      <td>14</td>\n      <td>Phoenix</td>\n      <td>1</td>\n      <td>22140.62</td>\n      <td>6142.48</td>\n      <td>6142.48</td>\n      <td>68365.49</td>\n      <td>17708.66</td>\n      <td>17708.66</td>\n      <td>0.32</td>\n    </tr>\n    <tr>\n      <th>83</th>\n      <td>15</td>\n      <td>Phoenix</td>\n      <td>1</td>\n      <td>28129.84</td>\n      <td>9734.82</td>\n      <td>9734.82</td>\n      <td>83649.02</td>\n      <td>22477.15</td>\n      <td>22477.15</td>\n      <td>0.34</td>\n    </tr>\n    <tr>\n      <th>113</th>\n      <td>16</td>\n      <td>Phoenix</td>\n      <td>1</td>\n      <td>24733.99</td>\n      <td>8595.58</td>\n      <td>8595.58</td>\n      <td>94287.97</td>\n      <td>24035.15</td>\n      <td>24035.15</td>\n      <td>0.26</td>\n    </tr>\n    <tr>\n      <th>143</th>\n      <td>17</td>\n      <td>Phoenix</td>\n      <td>1</td>\n      <td>51226.65</td>\n      <td>12256.61</td>\n      <td>12256.61</td>\n      <td>100013.57</td>\n      <td>23849.52</td>\n      <td>23849.52</td>\n      <td>0.51</td>\n    </tr>\n    <tr>\n      <th>173</th>\n      <td>18</td>\n      <td>Phoenix</td>\n      <td>1</td>\n      <td>161165.39</td>\n      <td>68020.23</td>\n      <td>68020.23</td>\n      <td>220968.36</td>\n      <td>71308.08</td>\n      <td>71308.08</td>\n      <td>0.73</td>\n    </tr>\n    <tr>\n      <th>203</th>\n      <td>19</td>\n      <td>Phoenix</td>\n      <td>1</td>\n      <td>46668.35</td>\n      <td>14470.31</td>\n      <td>14470.31</td>\n      <td>112898.81</td>\n      <td>31522.69</td>\n      <td>31522.69</td>\n      <td>0.41</td>\n    </tr>\n    <tr>\n      <th>233</th>\n      <td>20</td>\n      <td>Phoenix</td>\n      <td>1</td>\n      <td>68250.37</td>\n      <td>21987.93</td>\n      <td>21987.93</td>\n      <td>122071.86</td>\n      <td>28173.88</td>\n      <td>28173.88</td>\n      <td>0.56</td>\n    </tr>\n    <tr>\n      <th>263</th>\n      <td>21</td>\n      <td>Phoenix</td>\n      <td>1</td>\n      <td>44242.74</td>\n      <td>16934.26</td>\n      <td>16934.26</td>\n      <td>106262.11</td>\n      <td>26537.86</td>\n      <td>26537.86</td>\n      <td>0.42</td>\n    </tr>\n    <tr>\n      <th>293</th>\n      <td>22</td>\n      <td>Phoenix</td>\n      <td>1</td>\n      <td>84811.47</td>\n      <td>32687.70</td>\n      <td>32687.70</td>\n      <td>109704.60</td>\n      <td>36972.23</td>\n      <td>36972.23</td>\n      <td>0.77</td>\n    </tr>\n  </tbody>\n</table>\n</div>"
     },
     "metadata": {},
     "execution_count": 42
    }
   ],
   "source": [
    "metro_evict = df1[df1.EVICT>0]\n",
    "metro_evict['evict_bool'] = metro_evict.apply(lambda x: 1 if x.EVICT<3 else 0,axis=1)\n",
    "metro_evict_ct = full_crosstab(metro_evict[metro_evict.metro!='remove'],\n",
    "                         ['WEEK','metro', 'evict_bool'],\n",
    "                         'PWEIGHT',\n",
    "                         ['WEEK','metro'],\n",
    "                         critical_val=1).round(2)\n",
    "metro_evict_ct[(metro_evict_ct.evict_bool==1)&(metro_evict_ct.metro=='Phoenix')]"
   ]
  },
  {
   "cell_type": "code",
   "execution_count": 39,
   "metadata": {},
   "outputs": [
    {
     "output_type": "execute_result",
     "data": {
      "text/plain": [
       "     WEEK    metro    rent  PWEIGHT_full  std_err_full  mrgn_err_full  \\\n",
       "22     13  Phoenix  behind     102490.28      26782.72       26782.72   \n",
       "54     14  Phoenix  behind      68365.49      17708.66       17708.66   \n",
       "86     15  Phoenix  behind      97878.93      27011.71       27011.71   \n",
       "118    16  Phoenix  behind      94287.97      24035.15       24035.15   \n",
       "150    17  Phoenix  behind     100013.57      23849.52       23849.52   \n",
       "182    18  Phoenix  behind     220968.36      71308.08       71308.08   \n",
       "214    19  Phoenix  behind     115121.44      31379.48       31379.48   \n",
       "246    20  Phoenix  behind     136012.60      30094.51       30094.51   \n",
       "278    21  Phoenix  behind     106262.11      26537.86       26537.86   \n",
       "310    22  Phoenix  behind     109704.60      36972.23       36972.23   \n",
       "\n",
       "     PWEIGHT_demo  std_err_demo  mrgn_err_demo  proportions  \n",
       "22      737756.09      61180.29       61180.29         0.14  \n",
       "54      806460.14      53276.17       53276.17         0.08  \n",
       "86      898643.14      59301.43       59301.43         0.11  \n",
       "118     786646.34      67281.99       67281.99         0.12  \n",
       "150     992940.79      85689.57       85689.57         0.10  \n",
       "182     879308.05     107214.54      107214.54         0.25  \n",
       "214     816134.71      66145.36       66145.36         0.14  \n",
       "246     731107.29      61934.40       61934.40         0.19  \n",
       "278     741455.52      71069.38       71069.38         0.14  \n",
       "310     750766.92      71089.52       71089.52         0.15  "
      ],
      "text/html": "<div>\n<style scoped>\n    .dataframe tbody tr th:only-of-type {\n        vertical-align: middle;\n    }\n\n    .dataframe tbody tr th {\n        vertical-align: top;\n    }\n\n    .dataframe thead th {\n        text-align: right;\n    }\n</style>\n<table border=\"1\" class=\"dataframe\">\n  <thead>\n    <tr style=\"text-align: right;\">\n      <th></th>\n      <th>WEEK</th>\n      <th>metro</th>\n      <th>rent</th>\n      <th>PWEIGHT_full</th>\n      <th>std_err_full</th>\n      <th>mrgn_err_full</th>\n      <th>PWEIGHT_demo</th>\n      <th>std_err_demo</th>\n      <th>mrgn_err_demo</th>\n      <th>proportions</th>\n    </tr>\n  </thead>\n  <tbody>\n    <tr>\n      <th>22</th>\n      <td>13</td>\n      <td>Phoenix</td>\n      <td>behind</td>\n      <td>102490.28</td>\n      <td>26782.72</td>\n      <td>26782.72</td>\n      <td>737756.09</td>\n      <td>61180.29</td>\n      <td>61180.29</td>\n      <td>0.14</td>\n    </tr>\n    <tr>\n      <th>54</th>\n      <td>14</td>\n      <td>Phoenix</td>\n      <td>behind</td>\n      <td>68365.49</td>\n      <td>17708.66</td>\n      <td>17708.66</td>\n      <td>806460.14</td>\n      <td>53276.17</td>\n      <td>53276.17</td>\n      <td>0.08</td>\n    </tr>\n    <tr>\n      <th>86</th>\n      <td>15</td>\n      <td>Phoenix</td>\n      <td>behind</td>\n      <td>97878.93</td>\n      <td>27011.71</td>\n      <td>27011.71</td>\n      <td>898643.14</td>\n      <td>59301.43</td>\n      <td>59301.43</td>\n      <td>0.11</td>\n    </tr>\n    <tr>\n      <th>118</th>\n      <td>16</td>\n      <td>Phoenix</td>\n      <td>behind</td>\n      <td>94287.97</td>\n      <td>24035.15</td>\n      <td>24035.15</td>\n      <td>786646.34</td>\n      <td>67281.99</td>\n      <td>67281.99</td>\n      <td>0.12</td>\n    </tr>\n    <tr>\n      <th>150</th>\n      <td>17</td>\n      <td>Phoenix</td>\n      <td>behind</td>\n      <td>100013.57</td>\n      <td>23849.52</td>\n      <td>23849.52</td>\n      <td>992940.79</td>\n      <td>85689.57</td>\n      <td>85689.57</td>\n      <td>0.10</td>\n    </tr>\n    <tr>\n      <th>182</th>\n      <td>18</td>\n      <td>Phoenix</td>\n      <td>behind</td>\n      <td>220968.36</td>\n      <td>71308.08</td>\n      <td>71308.08</td>\n      <td>879308.05</td>\n      <td>107214.54</td>\n      <td>107214.54</td>\n      <td>0.25</td>\n    </tr>\n    <tr>\n      <th>214</th>\n      <td>19</td>\n      <td>Phoenix</td>\n      <td>behind</td>\n      <td>115121.44</td>\n      <td>31379.48</td>\n      <td>31379.48</td>\n      <td>816134.71</td>\n      <td>66145.36</td>\n      <td>66145.36</td>\n      <td>0.14</td>\n    </tr>\n    <tr>\n      <th>246</th>\n      <td>20</td>\n      <td>Phoenix</td>\n      <td>behind</td>\n      <td>136012.60</td>\n      <td>30094.51</td>\n      <td>30094.51</td>\n      <td>731107.29</td>\n      <td>61934.40</td>\n      <td>61934.40</td>\n      <td>0.19</td>\n    </tr>\n    <tr>\n      <th>278</th>\n      <td>21</td>\n      <td>Phoenix</td>\n      <td>behind</td>\n      <td>106262.11</td>\n      <td>26537.86</td>\n      <td>26537.86</td>\n      <td>741455.52</td>\n      <td>71069.38</td>\n      <td>71069.38</td>\n      <td>0.14</td>\n    </tr>\n    <tr>\n      <th>310</th>\n      <td>22</td>\n      <td>Phoenix</td>\n      <td>behind</td>\n      <td>109704.60</td>\n      <td>36972.23</td>\n      <td>36972.23</td>\n      <td>750766.92</td>\n      <td>71089.52</td>\n      <td>71089.52</td>\n      <td>0.15</td>\n    </tr>\n  </tbody>\n</table>\n</div>"
     },
     "metadata": {},
     "execution_count": 39
    }
   ],
   "source": [
    "#add occupied without rent and include with behind? people much more worried about eviction than ppl behind on rent\n",
    "metro_rent_ct = full_crosstab(df1[-(df1.rent=='remove')],\n",
    "                         ['WEEK','metro', 'rent'],\n",
    "                         'PWEIGHT',\n",
    "                         ['WEEK','metro'],\n",
    "                         critical_val=1).round(2)\n",
    "metro_rent_ct[(metro_rent_ct.rent=='behind')&(metro_rent_ct.metro=='Phoenix')]"
   ]
  },
  {
   "cell_type": "code",
   "execution_count": 200,
   "metadata": {},
   "outputs": [
    {
     "output_type": "execute_result",
     "data": {
      "text/plain": [
       "     metro   race     rent    PWEIGHT   std_err  mrgn_err  proportions\n",
       "0  Atlanta  Asian   behind    5923.87   3624.72   5962.66         0.22\n",
       "1  Atlanta  Asian  current   20534.83   7041.32  11582.98         0.78\n",
       "2  Atlanta  Other   behind    8375.40   5765.38   9484.05         0.31\n",
       "3  Atlanta  Other  current   18352.92   6439.09  10592.30         0.69\n",
       "4  Atlanta  black   behind   84377.39  25286.83  41596.84         0.20\n",
       "5  Atlanta  black  current  334560.43  52043.74  85611.95         0.80\n",
       "6  Atlanta  white   behind   32461.67  13918.24  22895.50         0.08\n",
       "7  Atlanta  white  current  361599.05  46427.68  76373.54         0.92"
      ],
      "text/html": "<div>\n<style scoped>\n    .dataframe tbody tr th:only-of-type {\n        vertical-align: middle;\n    }\n\n    .dataframe tbody tr th {\n        vertical-align: top;\n    }\n\n    .dataframe thead th {\n        text-align: right;\n    }\n</style>\n<table border=\"1\" class=\"dataframe\">\n  <thead>\n    <tr style=\"text-align: right;\">\n      <th></th>\n      <th>metro</th>\n      <th>race</th>\n      <th>rent</th>\n      <th>PWEIGHT</th>\n      <th>std_err</th>\n      <th>mrgn_err</th>\n      <th>proportions</th>\n    </tr>\n  </thead>\n  <tbody>\n    <tr>\n      <th>0</th>\n      <td>Atlanta</td>\n      <td>Asian</td>\n      <td>behind</td>\n      <td>5923.87</td>\n      <td>3624.72</td>\n      <td>5962.66</td>\n      <td>0.22</td>\n    </tr>\n    <tr>\n      <th>1</th>\n      <td>Atlanta</td>\n      <td>Asian</td>\n      <td>current</td>\n      <td>20534.83</td>\n      <td>7041.32</td>\n      <td>11582.98</td>\n      <td>0.78</td>\n    </tr>\n    <tr>\n      <th>2</th>\n      <td>Atlanta</td>\n      <td>Other</td>\n      <td>behind</td>\n      <td>8375.40</td>\n      <td>5765.38</td>\n      <td>9484.05</td>\n      <td>0.31</td>\n    </tr>\n    <tr>\n      <th>3</th>\n      <td>Atlanta</td>\n      <td>Other</td>\n      <td>current</td>\n      <td>18352.92</td>\n      <td>6439.09</td>\n      <td>10592.30</td>\n      <td>0.69</td>\n    </tr>\n    <tr>\n      <th>4</th>\n      <td>Atlanta</td>\n      <td>black</td>\n      <td>behind</td>\n      <td>84377.39</td>\n      <td>25286.83</td>\n      <td>41596.84</td>\n      <td>0.20</td>\n    </tr>\n    <tr>\n      <th>5</th>\n      <td>Atlanta</td>\n      <td>black</td>\n      <td>current</td>\n      <td>334560.43</td>\n      <td>52043.74</td>\n      <td>85611.95</td>\n      <td>0.80</td>\n    </tr>\n    <tr>\n      <th>6</th>\n      <td>Atlanta</td>\n      <td>white</td>\n      <td>behind</td>\n      <td>32461.67</td>\n      <td>13918.24</td>\n      <td>22895.50</td>\n      <td>0.08</td>\n    </tr>\n    <tr>\n      <th>7</th>\n      <td>Atlanta</td>\n      <td>white</td>\n      <td>current</td>\n      <td>361599.05</td>\n      <td>46427.68</td>\n      <td>76373.54</td>\n      <td>0.92</td>\n    </tr>\n  </tbody>\n</table>\n</div>"
     },
     "metadata": {},
     "execution_count": 200
    }
   ],
   "source": [
    "#full_crosstab(df, ['WEEK','metro'], 'PWEIGHT', ['WEEK','metro'], critical_val=1.645).round(2)\n",
    "df1 = df[df.WEEK==13].copy()\n",
    "df1 = df1[df1.metro=='Atlanta']\n",
    "full_crosstab(df1, ['metro','race','rent'], 'PWEIGHT', ['metro','race'], critical_val=1.645).round(2)"
   ]
  },
  {
   "cell_type": "code",
   "execution_count": 217,
   "metadata": {},
   "outputs": [
    {
     "output_type": "execute_result",
     "data": {
      "text/plain": [
       "array(['Alabama', 'Iowa', 'North Carolina', 'South Dakota', 'Virginia',\n",
       "       'Illinois', 'Minnesota', 'New York', 'Ohio', 'Washington',\n",
       "       'Connecticut', 'Indiana', 'New Mexico', 'Oregon', 'Georgia',\n",
       "       'Louisiana', 'Maryland', 'Michigan', 'Pennsylvania', 'Wisconsin',\n",
       "       'Alaska', 'District of Columbia', 'Nevada', 'Tennessee',\n",
       "       'Mississippi', 'Nebraska', 'Oklahoma', 'Rhode Island',\n",
       "       'South Carolina', 'Missouri', 'Texas', 'Colorado', 'Delaware',\n",
       "       'Florida', 'Kentucky', 'Massachusetts', 'Vermont', 'California',\n",
       "       'Kansas', 'New Jersey', 'Utah'], dtype=object)"
      ]
     },
     "metadata": {},
     "execution_count": 217
    }
   ],
   "source": [
    "detail = full_crosstab(df1, ['WEEK','state','race','rent'], 'PWEIGHT', ['WEEK','state','race'], critical_val=1.645).round(2)\n",
    "top = full_crosstab(df1, ['WEEK','state','race'], 'PWEIGHT', ['WEEK','state'], critical_val=1.645).round(2)\n",
    "rv = detail.merge(top,'left',['WEEK','state','race'],suffixes=('_full','_demo'))\n",
    "y = rv[rv.rent=='behind']\n",
    "y_2 = y[y.proportions_full>0.4]\n",
    "y_3 = y_2[y_2.PWEIGHT_full>y_2.mrgn_err_full]\n",
    "y_3.state.unique()\n"
   ]
  },
  {
   "cell_type": "code",
   "execution_count": 209,
   "metadata": {},
   "outputs": [
    {
     "output_type": "execute_result",
     "data": {
      "text/plain": [
       "     WEEK region   race    rent  PWEIGHT_full  std_err_full  mrgn_err_full  \\\n",
       "172    18     NE  black  behind     857991.48     189038.01      310967.52   \n",
       "292    22     MW  black  behind     733948.69     156260.04      257047.76   \n",
       "298    22     NE  Other  behind     396776.44     110644.16      182009.64   \n",
       "\n",
       "     proportions_full  PWEIGHT_demo  std_err_demo  mrgn_err_demo  \\\n",
       "172              0.44    1928187.96     195373.94      321390.14   \n",
       "292              0.50    1479393.27     156888.39      258081.41   \n",
       "298              0.57     701300.10     117815.62      193806.69   \n",
       "\n",
       "     proportions_demo  \n",
       "172              0.20  \n",
       "292              0.17  \n",
       "298              0.08  "
      ],
      "text/html": "<div>\n<style scoped>\n    .dataframe tbody tr th:only-of-type {\n        vertical-align: middle;\n    }\n\n    .dataframe tbody tr th {\n        vertical-align: top;\n    }\n\n    .dataframe thead th {\n        text-align: right;\n    }\n</style>\n<table border=\"1\" class=\"dataframe\">\n  <thead>\n    <tr style=\"text-align: right;\">\n      <th></th>\n      <th>WEEK</th>\n      <th>region</th>\n      <th>race</th>\n      <th>rent</th>\n      <th>PWEIGHT_full</th>\n      <th>std_err_full</th>\n      <th>mrgn_err_full</th>\n      <th>proportions_full</th>\n      <th>PWEIGHT_demo</th>\n      <th>std_err_demo</th>\n      <th>mrgn_err_demo</th>\n      <th>proportions_demo</th>\n    </tr>\n  </thead>\n  <tbody>\n    <tr>\n      <th>172</th>\n      <td>18</td>\n      <td>NE</td>\n      <td>black</td>\n      <td>behind</td>\n      <td>857991.48</td>\n      <td>189038.01</td>\n      <td>310967.52</td>\n      <td>0.44</td>\n      <td>1928187.96</td>\n      <td>195373.94</td>\n      <td>321390.14</td>\n      <td>0.20</td>\n    </tr>\n    <tr>\n      <th>292</th>\n      <td>22</td>\n      <td>MW</td>\n      <td>black</td>\n      <td>behind</td>\n      <td>733948.69</td>\n      <td>156260.04</td>\n      <td>257047.76</td>\n      <td>0.50</td>\n      <td>1479393.27</td>\n      <td>156888.39</td>\n      <td>258081.41</td>\n      <td>0.17</td>\n    </tr>\n    <tr>\n      <th>298</th>\n      <td>22</td>\n      <td>NE</td>\n      <td>Other</td>\n      <td>behind</td>\n      <td>396776.44</td>\n      <td>110644.16</td>\n      <td>182009.64</td>\n      <td>0.57</td>\n      <td>701300.10</td>\n      <td>117815.62</td>\n      <td>193806.69</td>\n      <td>0.08</td>\n    </tr>\n  </tbody>\n</table>\n</div>"
     },
     "metadata": {},
     "execution_count": 209
    }
   ],
   "source": [
    "detail_r = full_crosstab(df1, ['WEEK','region','race','rent'], 'PWEIGHT', ['WEEK','region','race'], critical_val=1.645).round(2)\n",
    "top_r = full_crosstab(df1, ['WEEK','region','race'], 'PWEIGHT', ['WEEK','region'], critical_val=1.645).round(2)\n",
    "rv_r = detail_r.merge(top_r,'left',['WEEK','region','race'],suffixes=('_full','_demo'))\n",
    "x = rv_r[rv_r.rent=='behind']\n",
    "x[x.proportions_full>0.4]"
   ]
  },
  {
   "cell_type": "code",
   "execution_count": 22,
   "metadata": {},
   "outputs": [],
   "source": [
    "check_1 = pd.read_csv('../data/puf_housing_data_remapped_labels.csv')"
   ]
  },
  {
   "source": [
    "## BULK CROSSTABS"
   ],
   "cell_type": "markdown",
   "metadata": {}
  },
  {
   "cell_type": "code",
   "execution_count": 159,
   "metadata": {},
   "outputs": [
    {
     "output_type": "execute_result",
     "data": {
      "text/plain": [
       "      EST_MSA  WEEK                   ct_val  \\\n",
       "0     12060.0    13                1 - White   \n",
       "1     12060.0    13                1 - White   \n",
       "2     12060.0    13                2 - Black   \n",
       "3     12060.0    13                2 - Black   \n",
       "4     12060.0    13                3 - Asian   \n",
       "...       ...   ...                      ...   \n",
       "1821  47900.0    22    5 - $75,000 - $99,999   \n",
       "1822  47900.0    22  6 - $100,000 - $149,999   \n",
       "1823  47900.0    22  6 - $100,000 - $149,999   \n",
       "1824  47900.0    22  7 - $150,000 - $199,999   \n",
       "1825  47900.0    22   8 - $200,000 and above   \n",
       "\n",
       "                                                  q_val  PWEIGHT_full  \\\n",
       "0                                      0 - not selected     550241.01   \n",
       "1                            1 - Regular income sources    1713693.58   \n",
       "2                                      0 - not selected     693102.10   \n",
       "3                            1 - Regular income sources     720397.82   \n",
       "4                                      0 - not selected      66136.81   \n",
       "...                                                 ...           ...   \n",
       "1821  2 - Not very or not at all likely to leave thi...      16516.31   \n",
       "1822  1 - Somewhat to very likely to leave this home...       2059.88   \n",
       "1823  2 - Not very or not at all likely to leave thi...      23798.76   \n",
       "1824  2 - Not very or not at all likely to leave thi...       4492.10   \n",
       "1825  2 - Not very or not at all likely to leave thi...      11612.05   \n",
       "\n",
       "      std_err_full  mrgn_err_full  PWEIGHT_demo  std_err_demo  mrgn_err_demo  \\\n",
       "0         65737.99       65737.99    2263934.59      81694.78       81694.78   \n",
       "1         65061.57       65061.57    2263934.59      81694.78       81694.78   \n",
       "2         65196.48       65196.48    1413499.92      67904.84       67904.84   \n",
       "3         63839.39       63839.39    1413499.92      67904.84       67904.84   \n",
       "4         17408.49       17408.49     176090.67      26180.63       26180.63   \n",
       "...            ...            ...           ...           ...            ...   \n",
       "1821       9044.43        9044.43      17980.58       9202.89        9202.89   \n",
       "1822       2109.63        2109.63      25858.64       8915.82        8915.82   \n",
       "1823       8649.52        8649.52      25858.64       8915.82        8915.82   \n",
       "1824       3688.95        3688.95       4492.10       3688.95        3688.95   \n",
       "1825       8358.60        8358.60      11612.05       8358.60        8358.60   \n",
       "\n",
       "      proportions  ct_var     q_var  \n",
       "0            0.24   RRACE  SPNDSRC1  \n",
       "1            0.76   RRACE  SPNDSRC1  \n",
       "2            0.49   RRACE  SPNDSRC1  \n",
       "3            0.51   RRACE  SPNDSRC1  \n",
       "4            0.38   RRACE  SPNDSRC1  \n",
       "...           ...     ...       ...  \n",
       "1821         0.92  INCOME  FORCLOSE  \n",
       "1822         0.08  INCOME  FORCLOSE  \n",
       "1823         0.92  INCOME  FORCLOSE  \n",
       "1824         1.00  INCOME  FORCLOSE  \n",
       "1825         1.00  INCOME  FORCLOSE  \n",
       "\n",
       "[54093 rows x 13 columns]"
      ],
      "text/html": "<div>\n<style scoped>\n    .dataframe tbody tr th:only-of-type {\n        vertical-align: middle;\n    }\n\n    .dataframe tbody tr th {\n        vertical-align: top;\n    }\n\n    .dataframe thead th {\n        text-align: right;\n    }\n</style>\n<table border=\"1\" class=\"dataframe\">\n  <thead>\n    <tr style=\"text-align: right;\">\n      <th></th>\n      <th>EST_MSA</th>\n      <th>WEEK</th>\n      <th>ct_val</th>\n      <th>q_val</th>\n      <th>PWEIGHT_full</th>\n      <th>std_err_full</th>\n      <th>mrgn_err_full</th>\n      <th>PWEIGHT_demo</th>\n      <th>std_err_demo</th>\n      <th>mrgn_err_demo</th>\n      <th>proportions</th>\n      <th>ct_var</th>\n      <th>q_var</th>\n    </tr>\n  </thead>\n  <tbody>\n    <tr>\n      <th>0</th>\n      <td>12060.0</td>\n      <td>13</td>\n      <td>1 - White</td>\n      <td>0 - not selected</td>\n      <td>550241.01</td>\n      <td>65737.99</td>\n      <td>65737.99</td>\n      <td>2263934.59</td>\n      <td>81694.78</td>\n      <td>81694.78</td>\n      <td>0.24</td>\n      <td>RRACE</td>\n      <td>SPNDSRC1</td>\n    </tr>\n    <tr>\n      <th>1</th>\n      <td>12060.0</td>\n      <td>13</td>\n      <td>1 - White</td>\n      <td>1 - Regular income sources</td>\n      <td>1713693.58</td>\n      <td>65061.57</td>\n      <td>65061.57</td>\n      <td>2263934.59</td>\n      <td>81694.78</td>\n      <td>81694.78</td>\n      <td>0.76</td>\n      <td>RRACE</td>\n      <td>SPNDSRC1</td>\n    </tr>\n    <tr>\n      <th>2</th>\n      <td>12060.0</td>\n      <td>13</td>\n      <td>2 - Black</td>\n      <td>0 - not selected</td>\n      <td>693102.10</td>\n      <td>65196.48</td>\n      <td>65196.48</td>\n      <td>1413499.92</td>\n      <td>67904.84</td>\n      <td>67904.84</td>\n      <td>0.49</td>\n      <td>RRACE</td>\n      <td>SPNDSRC1</td>\n    </tr>\n    <tr>\n      <th>3</th>\n      <td>12060.0</td>\n      <td>13</td>\n      <td>2 - Black</td>\n      <td>1 - Regular income sources</td>\n      <td>720397.82</td>\n      <td>63839.39</td>\n      <td>63839.39</td>\n      <td>1413499.92</td>\n      <td>67904.84</td>\n      <td>67904.84</td>\n      <td>0.51</td>\n      <td>RRACE</td>\n      <td>SPNDSRC1</td>\n    </tr>\n    <tr>\n      <th>4</th>\n      <td>12060.0</td>\n      <td>13</td>\n      <td>3 - Asian</td>\n      <td>0 - not selected</td>\n      <td>66136.81</td>\n      <td>17408.49</td>\n      <td>17408.49</td>\n      <td>176090.67</td>\n      <td>26180.63</td>\n      <td>26180.63</td>\n      <td>0.38</td>\n      <td>RRACE</td>\n      <td>SPNDSRC1</td>\n    </tr>\n    <tr>\n      <th>...</th>\n      <td>...</td>\n      <td>...</td>\n      <td>...</td>\n      <td>...</td>\n      <td>...</td>\n      <td>...</td>\n      <td>...</td>\n      <td>...</td>\n      <td>...</td>\n      <td>...</td>\n      <td>...</td>\n      <td>...</td>\n      <td>...</td>\n    </tr>\n    <tr>\n      <th>1821</th>\n      <td>47900.0</td>\n      <td>22</td>\n      <td>5 - $75,000 - $99,999</td>\n      <td>2 - Not very or not at all likely to leave thi...</td>\n      <td>16516.31</td>\n      <td>9044.43</td>\n      <td>9044.43</td>\n      <td>17980.58</td>\n      <td>9202.89</td>\n      <td>9202.89</td>\n      <td>0.92</td>\n      <td>INCOME</td>\n      <td>FORCLOSE</td>\n    </tr>\n    <tr>\n      <th>1822</th>\n      <td>47900.0</td>\n      <td>22</td>\n      <td>6 - $100,000 - $149,999</td>\n      <td>1 - Somewhat to very likely to leave this home...</td>\n      <td>2059.88</td>\n      <td>2109.63</td>\n      <td>2109.63</td>\n      <td>25858.64</td>\n      <td>8915.82</td>\n      <td>8915.82</td>\n      <td>0.08</td>\n      <td>INCOME</td>\n      <td>FORCLOSE</td>\n    </tr>\n    <tr>\n      <th>1823</th>\n      <td>47900.0</td>\n      <td>22</td>\n      <td>6 - $100,000 - $149,999</td>\n      <td>2 - Not very or not at all likely to leave thi...</td>\n      <td>23798.76</td>\n      <td>8649.52</td>\n      <td>8649.52</td>\n      <td>25858.64</td>\n      <td>8915.82</td>\n      <td>8915.82</td>\n      <td>0.92</td>\n      <td>INCOME</td>\n      <td>FORCLOSE</td>\n    </tr>\n    <tr>\n      <th>1824</th>\n      <td>47900.0</td>\n      <td>22</td>\n      <td>7 - $150,000 - $199,999</td>\n      <td>2 - Not very or not at all likely to leave thi...</td>\n      <td>4492.10</td>\n      <td>3688.95</td>\n      <td>3688.95</td>\n      <td>4492.10</td>\n      <td>3688.95</td>\n      <td>3688.95</td>\n      <td>1.00</td>\n      <td>INCOME</td>\n      <td>FORCLOSE</td>\n    </tr>\n    <tr>\n      <th>1825</th>\n      <td>47900.0</td>\n      <td>22</td>\n      <td>8 - $200,000 and above</td>\n      <td>2 - Not very or not at all likely to leave thi...</td>\n      <td>11612.05</td>\n      <td>8358.60</td>\n      <td>8358.60</td>\n      <td>11612.05</td>\n      <td>8358.60</td>\n      <td>8358.60</td>\n      <td>1.00</td>\n      <td>INCOME</td>\n      <td>FORCLOSE</td>\n    </tr>\n  </tbody>\n</table>\n<p>54093 rows × 13 columns</p>\n</div>"
     },
     "metadata": {},
     "execution_count": 159
    }
   ],
   "source": [
    "SELECT_ALL_QUESTIONS = ['SPNDSRC1', 'SPNDSRC2', 'SPNDSRC3', 'SPNDSRC4', 'SPNDSRC5', 'SPNDSRC6', 'SPNDSRC7', 'SPNDSRC8']\n",
    "index_list = ['EST_MSA', 'WEEK']\n",
    "crosstab_list = ['RRACE', 'EEDUC', 'INCOME']\n",
    "question_list = ['SPNDSRC1', 'SPNDSRC2', 'SPNDSRC3', 'SPNDSRC4', 'SPNDSRC5', 'SPNDSRC6', 'SPNDSRC7', 'SPNDSRC8', 'RENTCUR', 'MORTCUR', 'MORTCONF', 'EVICT', 'FORCLOSE']\n",
    "bulk_crosstabs(check_1, index_list, crosstab_list, question_list, weight='PWEIGHT', critical_val=1)\n",
    "# idx one at a time? level of proportions? TODO: Fix proportion calc w/ NA\n",
    "# -99 is DNR"
   ]
  },
  {
   "cell_type": "code",
   "execution_count": 150,
   "metadata": {},
   "outputs": [
    {
     "output_type": "execute_result",
     "data": {
      "text/plain": [
       "[1, 2, 3, 'h']"
      ]
     },
     "metadata": {},
     "execution_count": 150
    }
   ],
   "source": [
    "x = [1,2,3]\n",
    "x +['h']"
   ]
  },
  {
   "cell_type": "code",
   "execution_count": 157,
   "metadata": {},
   "outputs": [
    {
     "output_type": "execute_result",
     "data": {
      "text/plain": [
       "Index(['Unnamed: 0', 'SCRAM', 'WEEK', 'EST_ST', 'EST_MSA', 'REGION', 'HWEIGHT',\n",
       "       'PWEIGHT', 'TBIRTH_YEAR', 'ABIRTH_YEAR',\n",
       "       ...\n",
       "       'PWEIGHT72', 'PWEIGHT73', 'PWEIGHT74', 'PWEIGHT75', 'PWEIGHT76',\n",
       "       'PWEIGHT77', 'PWEIGHT78', 'PWEIGHT79', 'PWEIGHT80', 'topline'],\n",
       "      dtype='object', length=331)"
      ]
     },
     "metadata": {},
     "execution_count": 157
    }
   ],
   "source": [
    "check_1.columns"
   ]
  },
  {
   "cell_type": "code",
   "execution_count": null,
   "metadata": {},
   "outputs": [],
   "source": []
  }
 ]
}
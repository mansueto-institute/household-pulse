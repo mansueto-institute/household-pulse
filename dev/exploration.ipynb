{
 "metadata": {
  "language_info": {
   "codemirror_mode": {
    "name": "ipython",
    "version": 3
   },
   "file_extension": ".py",
   "mimetype": "text/x-python",
   "name": "python",
   "nbconvert_exporter": "python",
   "pygments_lexer": "ipython3",
   "version": "3.9.1-final"
  },
  "orig_nbformat": 2,
  "kernelspec": {
   "name": "python3",
   "display_name": "Python 3.9.1 64-bit ('virtual_env')",
   "metadata": {
    "interpreter": {
     "hash": "ae520ac60bc58bf887efe3d8b884bb1031c488da0214529d17ecae648d5e994e"
    }
   }
  }
 },
 "nbformat": 4,
 "nbformat_minor": 2,
 "cells": [
  {
   "cell_type": "code",
   "execution_count": 42,
   "metadata": {},
   "outputs": [],
   "source": [
    "from matplotlib import pyplot as plt\n",
    "import zipfile\n",
    "import tempfile\n",
    "import requests\n",
    "import os\n",
    "import numpy as np\n",
    "import pandas as pd"
   ]
  },
  {
   "cell_type": "code",
   "execution_count": 246,
   "metadata": {},
   "outputs": [],
   "source": [
    "def get_puf_data(first_week, last_week):\n",
    "    '''\n",
    "    download puf files for the given weeks and concatenate the datasets\n",
    "    '''\n",
    "    df = pd.DataFrame()\n",
    "    for i in range(first_week,last_week+1):\n",
    "        y = 2020\n",
    "        if i>=22:\n",
    "            y=2021\n",
    "        file_str = \"pulse{}_puf_{}.csv\".format(y,i)\n",
    "        url_str = \"https://www2.census.gov/programs-surveys/demo/datasets/hhp/{yr}/wk{w}/HPS_Week{w}_PUF_CSV.zip\".format(yr=y,w=i)\n",
    "        week_df = download_url(url_str, file_str, y, i)\n",
    "        df = pd.concat([df,week_df])\n",
    "\n",
    "    return df\n",
    "\n",
    "\n",
    "def download_url(url_str,file_str, year, week, chunk_size=128):\n",
    "    '''\n",
    "    download puf, avoid intermediate save to disk\n",
    "    '''\n",
    "    df = pd.DataFrame()\n",
    "    r = requests.get(url_str)\n",
    "    print(r)\n",
    "    #temp directory rather than file to hopefully accomodate windows users\n",
    "    with tempfile.TemporaryDirectory() as td:\n",
    "        f_name = os.path.join(td, 'week_{}'.format(week))\n",
    "        with open(f_name, 'wb') as fh:\n",
    "            for chunk in r.iter_content(chunk_size=chunk_size):\n",
    "                fh.write(chunk)\n",
    "        zf = zipfile.ZipFile(f_name)\n",
    "        df = pd.read_csv(zf.open(file_str))\n",
    "        df1 = pd.read_csv(zf.open(\"pulse{}_repwgt_puf_{}.csv\".format(year,week)))\n",
    "        zf.close()\n",
    "        r.close()\n",
    "\n",
    "    return pd.merge(df,df1,on=[\"SCRAM\",\"WEEK\"],how=\"inner\")\n",
    "\n",
    "\n",
    "def get_std_err(df, weight):\n",
    "    #make 1d array of weight col\n",
    "    obs_wgts = df[weight].to_numpy().reshape(len(df),1)\n",
    "    \n",
    "    #make 80d array of replicate weights\n",
    "    rep_wgts = df[[i for i in df.columns if weight in i and not i == weight]].to_numpy()\n",
    "    \n",
    "    #return standard error of estimate\n",
    "    return np.sqrt((np.sum(np.square(rep_wgts-obs_wgts),axis=1)*(4/80)))\n",
    "\n",
    "\n",
    "def freq_crosstab(df, col_list, weight, critical_val=1):\n",
    "    '''\n",
    "\n",
    "    '''\n",
    "    \n",
    "    pt_estimates = df.groupby(col_list, as_index=True)[[i for i in df.columns if weight in i]].agg('sum')\n",
    "    pt_estimates['std_err'] = get_std_err(pt_estimates, weight)\n",
    "    pt_estimates['mrgn_err'] = pt_estimates.std_err * critical_val\n",
    "\n",
    "    return pt_estimates[[weight, 'std_err','mrgn_err']].reset_index()\n",
    "\n",
    "def full_crosstab(df, col_list, weight, proportion_level, critical_val=1):\n",
    "    df1 = df[-df[col_list].isin([-99,-88]).any(axis=1)].copy()\n",
    "    print(df1.rent_check.unique())\n",
    "    detail = freq_crosstab(df1, col_list, weight, critical_val)\n",
    "    top = freq_crosstab(df1, proportion_level, weight, critical_val)\n",
    "    rv = detail.merge(top,'left',proportion_level,suffixes=('_full','_demo'))\n",
    "    rv['proportions'] = rv[weight+'_full']/rv[weight+'_demo']\n",
    "    return rv\n"
   ]
  },
  {
   "cell_type": "code",
   "execution_count": null,
   "metadata": {},
   "outputs": [],
   "source": []
  },
  {
   "cell_type": "code",
   "execution_count": 201,
   "metadata": {},
   "outputs": [
    {
     "output_type": "stream",
     "name": "stdout",
     "text": [
      "<Response [200]>\n",
      "<Response [200]>\n",
      "<Response [200]>\n",
      "<Response [200]>\n",
      "<Response [200]>\n",
      "<Response [200]>\n",
      "<Response [200]>\n",
      "<Response [200]>\n",
      "<Response [200]>\n",
      "<Response [200]>\n"
     ]
    }
   ],
   "source": [
    "core_df = get_puf_data(13,22)"
   ]
  },
  {
   "source": [
    "## Tie Out Housing 1b Table"
   ],
   "cell_type": "markdown",
   "metadata": {}
  },
  {
   "cell_type": "code",
   "execution_count": null,
   "metadata": {},
   "outputs": [],
   "source": [
    "test_df = core_df[core_df.WEEK==21].copy()\n",
    "test_df['rent_check'] = test_df.apply(lambda x: 4 if x.TENURE==4 else x.RENTCUR, axis=1)\n",
    "test_df['race_eth'] = test_df.apply(lambda x: 5 if x.RHISPANIC==2 else x.RRACE, axis=1)\n",
    "full_crosstab(test_df, ['EGENDER', 'rent_check'], 'PWEIGHT', ['EGENDER'],critical_val=1).round(2)"
   ]
  },
  {
   "cell_type": "code",
   "execution_count": 254,
   "metadata": {},
   "outputs": [],
   "source": [
    "#This cell takes forever bc i didn't take the time to map efficiently\n",
    "states = {1:'Alabama',2:'Alaska',4:'Arizona',5:'Arkansas',6:'California',\n",
    "    8:'Colorado',9:'Connecticut',10:'Delaware',11:'District of Columbia',12:'Florida',\n",
    "    13:'Georgia',15:'Hawaii',16:'Idaho',17:'Illinois',18:'Indiana',19:'Iowa',20:'Kansas',21:'Kentucky',\n",
    "    22:'Louisiana',23:'Maine',24:'Maryland',25:'Massachusetts',26:'Michigan',27:'Minnesota',\n",
    "    28:'Mississippi',29:'Missouri',30:'Montana',31:'Nebraska',32:'Nevada',33:'New Hampshire',\n",
    "    34:'New Jersey',35:'New Mexico',36:'New York',37:'North Carolina',38:'North Dakota',39:'Ohio',\n",
    "    40:'Oklahoma',41:'Oregon',42:'Pennsylvania',44:'Rhode Island',45:'South Carolina',\n",
    "    46:'South Dakota',47:'Tennessee',48:'Texas',49:'Utah',50:'Vermont',51:'Virginia',\n",
    "    53:'Washington',54:'West Virginia',55:'Wisconsin',56:'Wyoming'}\n",
    "regions = {1:'NE',2:'S',3:'MW',4:'W'}\n",
    "metros = {35620:'New York',31080:'Los Angeles',16980:'Chicago',19100:'Dallas',\n",
    "          26420:'Houston',47900:'DC',33100:'Miami',37980:'Philadelphia',\n",
    "          12060:'Atlanta',38060:'Phoenix',14460:'Boston',41860:'San Francisco',\n",
    "          40140:'Riverside CA',19820:'Detroit',42660:'Seattle'}\n",
    "races = {1:'white',2:'black',3:'Asian',4:'Other'}\n",
    "rents = {1:'current',2:'behind'}\n",
    "\n",
    "df1 = core_df.copy()\n",
    "df1['metro'] = df1.apply(lambda x: metros[x.EST_MSA] if x.EST_MSA>0 else 'remove', axis=1)\n",
    "df1['state'] = df1.apply(lambda x: states[x.EST_ST],axis=1)\n",
    "df1['region'] = df1.apply(lambda x: regions[x.REGION],axis=1) \n",
    "df1['race'] = df1.apply(lambda x: races[x.RRACE] if x.RRACE>0 else 'remove',axis=1)\n",
    "df1['rent'] = df1.apply(lambda x: rents[x.RENTCUR] if x.RENTCUR>0 else 'remove',axis=1)"
   ]
  },
  {
   "source": [
    "## Metro Evictions, Metro Behind Rent"
   ],
   "cell_type": "markdown",
   "metadata": {}
  },
  {
   "cell_type": "code",
   "execution_count": 261,
   "metadata": {},
   "outputs": [
    {
     "output_type": "stream",
     "name": "stdout",
     "text": [
      "[2]\n"
     ]
    },
    {
     "output_type": "execute_result",
     "data": {
      "text/plain": [
       "     WEEK          metro  EVICT  PWEIGHT_full  std_err_full  mrgn_err_full  \\\n",
       "0      13        Atlanta      1      18260.29       8961.77        8961.77   \n",
       "1      13        Atlanta      2      35568.09      15495.62       15495.62   \n",
       "4      13         Boston      1      14683.87       5822.37        5822.37   \n",
       "5      13         Boston      2      12552.96       4110.86        4110.86   \n",
       "8      13        Chicago      1      27596.05      12829.90       12829.90   \n",
       "..    ...            ...    ...           ...           ...            ...   \n",
       "628    22  San Francisco      2      23579.43       6982.79        6982.79   \n",
       "631    22        Seattle      1       2300.27       2537.27        2537.27   \n",
       "632    22        Seattle      2      33186.79      13344.04       13344.04   \n",
       "635    22         remove      1     926768.35     158923.64      158923.64   \n",
       "636    22         remove      2    1939825.04     181016.64      181016.64   \n",
       "\n",
       "     PWEIGHT_demo  std_err_demo  mrgn_err_demo  proportions  \n",
       "0       122543.87      27640.46       27640.46         0.15  \n",
       "1       122543.87      27640.46       27640.46         0.29  \n",
       "4        96242.26      17086.31       17086.31         0.15  \n",
       "5        96242.26      17086.31       17086.31         0.13  \n",
       "8       308426.51      49284.31       49284.31         0.09  \n",
       "..            ...           ...            ...          ...  \n",
       "628     136899.18      27257.19       27257.19         0.17  \n",
       "631     108041.88      22645.13       22645.13         0.02  \n",
       "632     108041.88      22645.13       22645.13         0.31  \n",
       "635    5933799.30     354512.94      354512.94         0.16  \n",
       "636    5933799.30     354512.94      354512.94         0.33  \n",
       "\n",
       "[319 rows x 10 columns]"
      ],
      "text/html": "<div>\n<style scoped>\n    .dataframe tbody tr th:only-of-type {\n        vertical-align: middle;\n    }\n\n    .dataframe tbody tr th {\n        vertical-align: top;\n    }\n\n    .dataframe thead th {\n        text-align: right;\n    }\n</style>\n<table border=\"1\" class=\"dataframe\">\n  <thead>\n    <tr style=\"text-align: right;\">\n      <th></th>\n      <th>WEEK</th>\n      <th>metro</th>\n      <th>EVICT</th>\n      <th>PWEIGHT_full</th>\n      <th>std_err_full</th>\n      <th>mrgn_err_full</th>\n      <th>PWEIGHT_demo</th>\n      <th>std_err_demo</th>\n      <th>mrgn_err_demo</th>\n      <th>proportions</th>\n    </tr>\n  </thead>\n  <tbody>\n    <tr>\n      <th>0</th>\n      <td>13</td>\n      <td>Atlanta</td>\n      <td>1</td>\n      <td>18260.29</td>\n      <td>8961.77</td>\n      <td>8961.77</td>\n      <td>122543.87</td>\n      <td>27640.46</td>\n      <td>27640.46</td>\n      <td>0.15</td>\n    </tr>\n    <tr>\n      <th>1</th>\n      <td>13</td>\n      <td>Atlanta</td>\n      <td>2</td>\n      <td>35568.09</td>\n      <td>15495.62</td>\n      <td>15495.62</td>\n      <td>122543.87</td>\n      <td>27640.46</td>\n      <td>27640.46</td>\n      <td>0.29</td>\n    </tr>\n    <tr>\n      <th>4</th>\n      <td>13</td>\n      <td>Boston</td>\n      <td>1</td>\n      <td>14683.87</td>\n      <td>5822.37</td>\n      <td>5822.37</td>\n      <td>96242.26</td>\n      <td>17086.31</td>\n      <td>17086.31</td>\n      <td>0.15</td>\n    </tr>\n    <tr>\n      <th>5</th>\n      <td>13</td>\n      <td>Boston</td>\n      <td>2</td>\n      <td>12552.96</td>\n      <td>4110.86</td>\n      <td>4110.86</td>\n      <td>96242.26</td>\n      <td>17086.31</td>\n      <td>17086.31</td>\n      <td>0.13</td>\n    </tr>\n    <tr>\n      <th>8</th>\n      <td>13</td>\n      <td>Chicago</td>\n      <td>1</td>\n      <td>27596.05</td>\n      <td>12829.90</td>\n      <td>12829.90</td>\n      <td>308426.51</td>\n      <td>49284.31</td>\n      <td>49284.31</td>\n      <td>0.09</td>\n    </tr>\n    <tr>\n      <th>...</th>\n      <td>...</td>\n      <td>...</td>\n      <td>...</td>\n      <td>...</td>\n      <td>...</td>\n      <td>...</td>\n      <td>...</td>\n      <td>...</td>\n      <td>...</td>\n      <td>...</td>\n    </tr>\n    <tr>\n      <th>628</th>\n      <td>22</td>\n      <td>San Francisco</td>\n      <td>2</td>\n      <td>23579.43</td>\n      <td>6982.79</td>\n      <td>6982.79</td>\n      <td>136899.18</td>\n      <td>27257.19</td>\n      <td>27257.19</td>\n      <td>0.17</td>\n    </tr>\n    <tr>\n      <th>631</th>\n      <td>22</td>\n      <td>Seattle</td>\n      <td>1</td>\n      <td>2300.27</td>\n      <td>2537.27</td>\n      <td>2537.27</td>\n      <td>108041.88</td>\n      <td>22645.13</td>\n      <td>22645.13</td>\n      <td>0.02</td>\n    </tr>\n    <tr>\n      <th>632</th>\n      <td>22</td>\n      <td>Seattle</td>\n      <td>2</td>\n      <td>33186.79</td>\n      <td>13344.04</td>\n      <td>13344.04</td>\n      <td>108041.88</td>\n      <td>22645.13</td>\n      <td>22645.13</td>\n      <td>0.31</td>\n    </tr>\n    <tr>\n      <th>635</th>\n      <td>22</td>\n      <td>remove</td>\n      <td>1</td>\n      <td>926768.35</td>\n      <td>158923.64</td>\n      <td>158923.64</td>\n      <td>5933799.30</td>\n      <td>354512.94</td>\n      <td>354512.94</td>\n      <td>0.16</td>\n    </tr>\n    <tr>\n      <th>636</th>\n      <td>22</td>\n      <td>remove</td>\n      <td>2</td>\n      <td>1939825.04</td>\n      <td>181016.64</td>\n      <td>181016.64</td>\n      <td>5933799.30</td>\n      <td>354512.94</td>\n      <td>354512.94</td>\n      <td>0.33</td>\n    </tr>\n  </tbody>\n</table>\n<p>319 rows × 10 columns</p>\n</div>"
     },
     "metadata": {},
     "execution_count": 261
    }
   ],
   "source": [
    "\n",
    "metro_evict_ct = full_crosstab(df1[df1.EVICT>0],\n",
    "                         ['WEEK','metro', 'EVICT'],\n",
    "                         'PWEIGHT',\n",
    "                         ['WEEK','metro'],\n",
    "                         critical_val=1).round(2)\n",
    "metro_evict_ct[metro_evict_ct.EVICT<3]"
   ]
  },
  {
   "cell_type": "code",
   "execution_count": 258,
   "metadata": {},
   "outputs": [
    {
     "output_type": "stream",
     "name": "stdout",
     "text": [
      "[1 2]\n"
     ]
    },
    {
     "output_type": "execute_result",
     "data": {
      "text/plain": [
       "     WEEK          metro    rent  PWEIGHT_full  std_err_full  mrgn_err_full  \\\n",
       "0      13        Atlanta  behind     131138.32      28864.81       28864.81   \n",
       "2      13         Boston  behind      98375.64      18149.23       18149.23   \n",
       "4      13        Chicago  behind     321886.09      51643.59       51643.59   \n",
       "6      13             DC  behind     157980.11      25542.01       25542.01   \n",
       "8      13         Dallas  behind      64494.02      14084.21       14084.21   \n",
       "..    ...            ...     ...           ...           ...            ...   \n",
       "310    22        Phoenix  behind     109704.60      36972.23       36972.23   \n",
       "312    22   Riverside CA  behind     185729.13      49239.43       49239.43   \n",
       "314    22  San Francisco  behind     138488.20      27918.33       27918.33   \n",
       "316    22        Seattle  behind     108041.88      22645.13       22645.13   \n",
       "318    22         remove  behind    6090636.07     361676.92      361676.92   \n",
       "\n",
       "     PWEIGHT_demo  std_err_demo  mrgn_err_demo  proportions  \n",
       "0       866185.56      78548.08       78548.08         0.15  \n",
       "2       785186.38      56288.05       56288.05         0.13  \n",
       "4      1410490.75     104589.78      104589.78         0.23  \n",
       "6      1136709.20      76655.35       76655.35         0.14  \n",
       "8      1088451.90      74544.23       74544.23         0.06  \n",
       "..            ...           ...            ...          ...  \n",
       "310     750766.92      71089.52       71089.52         0.15  \n",
       "312     940384.62      98423.02       98423.02         0.20  \n",
       "314    1091156.28      95453.62       95453.62         0.13  \n",
       "316     877451.94      58737.63       58737.63         0.12  \n",
       "318   30852897.30     582318.66      582318.66         0.20  \n",
       "\n",
       "[160 rows x 10 columns]"
      ],
      "text/html": "<div>\n<style scoped>\n    .dataframe tbody tr th:only-of-type {\n        vertical-align: middle;\n    }\n\n    .dataframe tbody tr th {\n        vertical-align: top;\n    }\n\n    .dataframe thead th {\n        text-align: right;\n    }\n</style>\n<table border=\"1\" class=\"dataframe\">\n  <thead>\n    <tr style=\"text-align: right;\">\n      <th></th>\n      <th>WEEK</th>\n      <th>metro</th>\n      <th>rent</th>\n      <th>PWEIGHT_full</th>\n      <th>std_err_full</th>\n      <th>mrgn_err_full</th>\n      <th>PWEIGHT_demo</th>\n      <th>std_err_demo</th>\n      <th>mrgn_err_demo</th>\n      <th>proportions</th>\n    </tr>\n  </thead>\n  <tbody>\n    <tr>\n      <th>0</th>\n      <td>13</td>\n      <td>Atlanta</td>\n      <td>behind</td>\n      <td>131138.32</td>\n      <td>28864.81</td>\n      <td>28864.81</td>\n      <td>866185.56</td>\n      <td>78548.08</td>\n      <td>78548.08</td>\n      <td>0.15</td>\n    </tr>\n    <tr>\n      <th>2</th>\n      <td>13</td>\n      <td>Boston</td>\n      <td>behind</td>\n      <td>98375.64</td>\n      <td>18149.23</td>\n      <td>18149.23</td>\n      <td>785186.38</td>\n      <td>56288.05</td>\n      <td>56288.05</td>\n      <td>0.13</td>\n    </tr>\n    <tr>\n      <th>4</th>\n      <td>13</td>\n      <td>Chicago</td>\n      <td>behind</td>\n      <td>321886.09</td>\n      <td>51643.59</td>\n      <td>51643.59</td>\n      <td>1410490.75</td>\n      <td>104589.78</td>\n      <td>104589.78</td>\n      <td>0.23</td>\n    </tr>\n    <tr>\n      <th>6</th>\n      <td>13</td>\n      <td>DC</td>\n      <td>behind</td>\n      <td>157980.11</td>\n      <td>25542.01</td>\n      <td>25542.01</td>\n      <td>1136709.20</td>\n      <td>76655.35</td>\n      <td>76655.35</td>\n      <td>0.14</td>\n    </tr>\n    <tr>\n      <th>8</th>\n      <td>13</td>\n      <td>Dallas</td>\n      <td>behind</td>\n      <td>64494.02</td>\n      <td>14084.21</td>\n      <td>14084.21</td>\n      <td>1088451.90</td>\n      <td>74544.23</td>\n      <td>74544.23</td>\n      <td>0.06</td>\n    </tr>\n    <tr>\n      <th>...</th>\n      <td>...</td>\n      <td>...</td>\n      <td>...</td>\n      <td>...</td>\n      <td>...</td>\n      <td>...</td>\n      <td>...</td>\n      <td>...</td>\n      <td>...</td>\n      <td>...</td>\n    </tr>\n    <tr>\n      <th>310</th>\n      <td>22</td>\n      <td>Phoenix</td>\n      <td>behind</td>\n      <td>109704.60</td>\n      <td>36972.23</td>\n      <td>36972.23</td>\n      <td>750766.92</td>\n      <td>71089.52</td>\n      <td>71089.52</td>\n      <td>0.15</td>\n    </tr>\n    <tr>\n      <th>312</th>\n      <td>22</td>\n      <td>Riverside CA</td>\n      <td>behind</td>\n      <td>185729.13</td>\n      <td>49239.43</td>\n      <td>49239.43</td>\n      <td>940384.62</td>\n      <td>98423.02</td>\n      <td>98423.02</td>\n      <td>0.20</td>\n    </tr>\n    <tr>\n      <th>314</th>\n      <td>22</td>\n      <td>San Francisco</td>\n      <td>behind</td>\n      <td>138488.20</td>\n      <td>27918.33</td>\n      <td>27918.33</td>\n      <td>1091156.28</td>\n      <td>95453.62</td>\n      <td>95453.62</td>\n      <td>0.13</td>\n    </tr>\n    <tr>\n      <th>316</th>\n      <td>22</td>\n      <td>Seattle</td>\n      <td>behind</td>\n      <td>108041.88</td>\n      <td>22645.13</td>\n      <td>22645.13</td>\n      <td>877451.94</td>\n      <td>58737.63</td>\n      <td>58737.63</td>\n      <td>0.12</td>\n    </tr>\n    <tr>\n      <th>318</th>\n      <td>22</td>\n      <td>remove</td>\n      <td>behind</td>\n      <td>6090636.07</td>\n      <td>361676.92</td>\n      <td>361676.92</td>\n      <td>30852897.30</td>\n      <td>582318.66</td>\n      <td>582318.66</td>\n      <td>0.20</td>\n    </tr>\n  </tbody>\n</table>\n<p>160 rows × 10 columns</p>\n</div>"
     },
     "metadata": {},
     "execution_count": 258
    }
   ],
   "source": [
    "metro_rent_ct = full_crosstab(df1[-(df1.rent=='remove')],\n",
    "                         ['WEEK','metro', 'rent'],\n",
    "                         'PWEIGHT',\n",
    "                         ['WEEK','metro'],\n",
    "                         critical_val=1).round(2)\n",
    "metro_rent_ct[metro_ct.rent=='behind']"
   ]
  },
  {
   "cell_type": "code",
   "execution_count": 200,
   "metadata": {},
   "outputs": [
    {
     "output_type": "execute_result",
     "data": {
      "text/plain": [
       "     metro   race     rent    PWEIGHT   std_err  mrgn_err  proportions\n",
       "0  Atlanta  Asian   behind    5923.87   3624.72   5962.66         0.22\n",
       "1  Atlanta  Asian  current   20534.83   7041.32  11582.98         0.78\n",
       "2  Atlanta  Other   behind    8375.40   5765.38   9484.05         0.31\n",
       "3  Atlanta  Other  current   18352.92   6439.09  10592.30         0.69\n",
       "4  Atlanta  black   behind   84377.39  25286.83  41596.84         0.20\n",
       "5  Atlanta  black  current  334560.43  52043.74  85611.95         0.80\n",
       "6  Atlanta  white   behind   32461.67  13918.24  22895.50         0.08\n",
       "7  Atlanta  white  current  361599.05  46427.68  76373.54         0.92"
      ],
      "text/html": "<div>\n<style scoped>\n    .dataframe tbody tr th:only-of-type {\n        vertical-align: middle;\n    }\n\n    .dataframe tbody tr th {\n        vertical-align: top;\n    }\n\n    .dataframe thead th {\n        text-align: right;\n    }\n</style>\n<table border=\"1\" class=\"dataframe\">\n  <thead>\n    <tr style=\"text-align: right;\">\n      <th></th>\n      <th>metro</th>\n      <th>race</th>\n      <th>rent</th>\n      <th>PWEIGHT</th>\n      <th>std_err</th>\n      <th>mrgn_err</th>\n      <th>proportions</th>\n    </tr>\n  </thead>\n  <tbody>\n    <tr>\n      <th>0</th>\n      <td>Atlanta</td>\n      <td>Asian</td>\n      <td>behind</td>\n      <td>5923.87</td>\n      <td>3624.72</td>\n      <td>5962.66</td>\n      <td>0.22</td>\n    </tr>\n    <tr>\n      <th>1</th>\n      <td>Atlanta</td>\n      <td>Asian</td>\n      <td>current</td>\n      <td>20534.83</td>\n      <td>7041.32</td>\n      <td>11582.98</td>\n      <td>0.78</td>\n    </tr>\n    <tr>\n      <th>2</th>\n      <td>Atlanta</td>\n      <td>Other</td>\n      <td>behind</td>\n      <td>8375.40</td>\n      <td>5765.38</td>\n      <td>9484.05</td>\n      <td>0.31</td>\n    </tr>\n    <tr>\n      <th>3</th>\n      <td>Atlanta</td>\n      <td>Other</td>\n      <td>current</td>\n      <td>18352.92</td>\n      <td>6439.09</td>\n      <td>10592.30</td>\n      <td>0.69</td>\n    </tr>\n    <tr>\n      <th>4</th>\n      <td>Atlanta</td>\n      <td>black</td>\n      <td>behind</td>\n      <td>84377.39</td>\n      <td>25286.83</td>\n      <td>41596.84</td>\n      <td>0.20</td>\n    </tr>\n    <tr>\n      <th>5</th>\n      <td>Atlanta</td>\n      <td>black</td>\n      <td>current</td>\n      <td>334560.43</td>\n      <td>52043.74</td>\n      <td>85611.95</td>\n      <td>0.80</td>\n    </tr>\n    <tr>\n      <th>6</th>\n      <td>Atlanta</td>\n      <td>white</td>\n      <td>behind</td>\n      <td>32461.67</td>\n      <td>13918.24</td>\n      <td>22895.50</td>\n      <td>0.08</td>\n    </tr>\n    <tr>\n      <th>7</th>\n      <td>Atlanta</td>\n      <td>white</td>\n      <td>current</td>\n      <td>361599.05</td>\n      <td>46427.68</td>\n      <td>76373.54</td>\n      <td>0.92</td>\n    </tr>\n  </tbody>\n</table>\n</div>"
     },
     "metadata": {},
     "execution_count": 200
    }
   ],
   "source": [
    "#full_crosstab(df, ['WEEK','metro'], 'PWEIGHT', ['WEEK','metro'], critical_val=1.645).round(2)\n",
    "df1 = df[df.WEEK==13].copy()\n",
    "df1 = df1[df1.metro=='Atlanta']\n",
    "full_crosstab(df1, ['metro','race','rent'], 'PWEIGHT', ['metro','race'], critical_val=1.645).round(2)"
   ]
  },
  {
   "cell_type": "code",
   "execution_count": 217,
   "metadata": {},
   "outputs": [
    {
     "output_type": "execute_result",
     "data": {
      "text/plain": [
       "array(['Alabama', 'Iowa', 'North Carolina', 'South Dakota', 'Virginia',\n",
       "       'Illinois', 'Minnesota', 'New York', 'Ohio', 'Washington',\n",
       "       'Connecticut', 'Indiana', 'New Mexico', 'Oregon', 'Georgia',\n",
       "       'Louisiana', 'Maryland', 'Michigan', 'Pennsylvania', 'Wisconsin',\n",
       "       'Alaska', 'District of Columbia', 'Nevada', 'Tennessee',\n",
       "       'Mississippi', 'Nebraska', 'Oklahoma', 'Rhode Island',\n",
       "       'South Carolina', 'Missouri', 'Texas', 'Colorado', 'Delaware',\n",
       "       'Florida', 'Kentucky', 'Massachusetts', 'Vermont', 'California',\n",
       "       'Kansas', 'New Jersey', 'Utah'], dtype=object)"
      ]
     },
     "metadata": {},
     "execution_count": 217
    }
   ],
   "source": [
    "detail = full_crosstab(df1, ['WEEK','state','race','rent'], 'PWEIGHT', ['WEEK','state','race'], critical_val=1.645).round(2)\n",
    "top = full_crosstab(df1, ['WEEK','state','race'], 'PWEIGHT', ['WEEK','state'], critical_val=1.645).round(2)\n",
    "rv = detail.merge(top,'left',['WEEK','state','race'],suffixes=('_full','_demo'))\n",
    "y = rv[rv.rent=='behind']\n",
    "y_2 = y[y.proportions_full>0.4]\n",
    "y_3 = y_2[y_2.PWEIGHT_full>y_2.mrgn_err_full]\n",
    "y_3.state.unique()\n"
   ]
  },
  {
   "cell_type": "code",
   "execution_count": 209,
   "metadata": {},
   "outputs": [
    {
     "output_type": "execute_result",
     "data": {
      "text/plain": [
       "     WEEK region   race    rent  PWEIGHT_full  std_err_full  mrgn_err_full  \\\n",
       "172    18     NE  black  behind     857991.48     189038.01      310967.52   \n",
       "292    22     MW  black  behind     733948.69     156260.04      257047.76   \n",
       "298    22     NE  Other  behind     396776.44     110644.16      182009.64   \n",
       "\n",
       "     proportions_full  PWEIGHT_demo  std_err_demo  mrgn_err_demo  \\\n",
       "172              0.44    1928187.96     195373.94      321390.14   \n",
       "292              0.50    1479393.27     156888.39      258081.41   \n",
       "298              0.57     701300.10     117815.62      193806.69   \n",
       "\n",
       "     proportions_demo  \n",
       "172              0.20  \n",
       "292              0.17  \n",
       "298              0.08  "
      ],
      "text/html": "<div>\n<style scoped>\n    .dataframe tbody tr th:only-of-type {\n        vertical-align: middle;\n    }\n\n    .dataframe tbody tr th {\n        vertical-align: top;\n    }\n\n    .dataframe thead th {\n        text-align: right;\n    }\n</style>\n<table border=\"1\" class=\"dataframe\">\n  <thead>\n    <tr style=\"text-align: right;\">\n      <th></th>\n      <th>WEEK</th>\n      <th>region</th>\n      <th>race</th>\n      <th>rent</th>\n      <th>PWEIGHT_full</th>\n      <th>std_err_full</th>\n      <th>mrgn_err_full</th>\n      <th>proportions_full</th>\n      <th>PWEIGHT_demo</th>\n      <th>std_err_demo</th>\n      <th>mrgn_err_demo</th>\n      <th>proportions_demo</th>\n    </tr>\n  </thead>\n  <tbody>\n    <tr>\n      <th>172</th>\n      <td>18</td>\n      <td>NE</td>\n      <td>black</td>\n      <td>behind</td>\n      <td>857991.48</td>\n      <td>189038.01</td>\n      <td>310967.52</td>\n      <td>0.44</td>\n      <td>1928187.96</td>\n      <td>195373.94</td>\n      <td>321390.14</td>\n      <td>0.20</td>\n    </tr>\n    <tr>\n      <th>292</th>\n      <td>22</td>\n      <td>MW</td>\n      <td>black</td>\n      <td>behind</td>\n      <td>733948.69</td>\n      <td>156260.04</td>\n      <td>257047.76</td>\n      <td>0.50</td>\n      <td>1479393.27</td>\n      <td>156888.39</td>\n      <td>258081.41</td>\n      <td>0.17</td>\n    </tr>\n    <tr>\n      <th>298</th>\n      <td>22</td>\n      <td>NE</td>\n      <td>Other</td>\n      <td>behind</td>\n      <td>396776.44</td>\n      <td>110644.16</td>\n      <td>182009.64</td>\n      <td>0.57</td>\n      <td>701300.10</td>\n      <td>117815.62</td>\n      <td>193806.69</td>\n      <td>0.08</td>\n    </tr>\n  </tbody>\n</table>\n</div>"
     },
     "metadata": {},
     "execution_count": 209
    }
   ],
   "source": [
    "detail_r = full_crosstab(df1, ['WEEK','region','race','rent'], 'PWEIGHT', ['WEEK','region','race'], critical_val=1.645).round(2)\n",
    "top_r = full_crosstab(df1, ['WEEK','region','race'], 'PWEIGHT', ['WEEK','region'], critical_val=1.645).round(2)\n",
    "rv_r = detail_r.merge(top_r,'left',['WEEK','region','race'],suffixes=('_full','_demo'))\n",
    "x = rv_r[rv_r.rent=='behind']\n",
    "x[x.proportions_full>0.4]"
   ]
  },
  {
   "cell_type": "code",
   "execution_count": null,
   "metadata": {},
   "outputs": [],
   "source": [
    "full_crosstab(df1, ['WEEK','region','race','rent'], 'PWEIGHT', ['WEEK','region','race'], critical_val=1.645).round(2)"
   ]
  }
 ]
}
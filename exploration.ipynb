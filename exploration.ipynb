{
 "metadata": {
  "language_info": {
   "codemirror_mode": {
    "name": "ipython",
    "version": 3
   },
   "file_extension": ".py",
   "mimetype": "text/x-python",
   "name": "python",
   "nbconvert_exporter": "python",
   "pygments_lexer": "ipython3",
   "version": "3.9.1-final"
  },
  "orig_nbformat": 2,
  "kernelspec": {
   "name": "python3",
   "display_name": "Python 3.9.1 64-bit ('virtual_env')",
   "metadata": {
    "interpreter": {
     "hash": "ae520ac60bc58bf887efe3d8b884bb1031c488da0214529d17ecae648d5e994e"
    }
   }
  }
 },
 "nbformat": 4,
 "nbformat_minor": 2,
 "cells": [
  {
   "cell_type": "code",
   "execution_count": 34,
   "metadata": {},
   "outputs": [],
   "source": [
    "import zipfile\n",
    "import tempfile\n",
    "import requests\n",
    "import os\n",
    "import numpy as np\n",
    "import pandas as pd"
   ]
  },
  {
   "cell_type": "code",
   "execution_count": 161,
   "metadata": {},
   "outputs": [],
   "source": [
    "def get_puf_data(first_week, last_week):\n",
    "    '''\n",
    "    download puf files for the given weeks and concatenate the datasets\n",
    "    '''\n",
    "    df = pd.DataFrame()\n",
    "    for i in range(first_week,last_week+1):\n",
    "        file_str = \"pulse2020_puf_{}.csv\".format(i)\n",
    "        url_str = \"https://www2.census.gov/programs-surveys/demo/datasets/hhp/2020/wk{w}/HPS_Week{w}_PUF_CSV.zip\".format(w=i)\n",
    "        week_df = download_url(url_str, file_str,i)\n",
    "        df = pd.concat([df,week_df])\n",
    "\n",
    "    return df\n",
    "\n",
    "\n",
    "def download_url(url_str,file_str, week, chunk_size=128):\n",
    "    '''\n",
    "    download puf, avoid intermediate save to disk\n",
    "    '''\n",
    "    df = pd.DataFrame()\n",
    "    r = requests.get(url_str)\n",
    "    print(r)\n",
    "    #temp directory rather than file to hopefully accomodate windows users\n",
    "    with tempfile.TemporaryDirectory() as td:\n",
    "        f_name = os.path.join(td, 'week_{}'.format(week))\n",
    "        with open(f_name, 'wb') as fh:\n",
    "            for chunk in r.iter_content(chunk_size=chunk_size):\n",
    "                fh.write(chunk)\n",
    "        zf = zipfile.ZipFile(f_name)\n",
    "        df = pd.read_csv(zf.open(file_str))\n",
    "        df1 = pd.read_csv(zf.open(\"pulse2020_repwgt_puf_{}.csv\".format(week)))\n",
    "        zf.close()\n",
    "        r.close()\n",
    "\n",
    "    return pd.merge(df,df1,on=[\"SCRAM\",\"WEEK\"],how=\"left\")\n",
    "\n",
    "\n",
    "def apply_wts(df, weight_str):\n",
    "    #make 1d array of weight col\n",
    "    obs_wgts = df[weight_str].to_numpy().reshape(len(df),1)\n",
    "    #make 80d array of rep weights\n",
    "    rep_wgts = df[[i for i in df.columns if weight_str in i and not i == weight_str]].to_numpy()\n",
    "\n",
    "    #return standard error of estimate\n",
    "    return np.sqrt((np.sum(np.square(obs_wgts-rep_wgts),axis=1)*(4/80)))\n",
    "\n",
    "\n",
    "def freq_crosstab(df, col_list, weight_str, critical_val):\n",
    "    df1 = df.groupby(col_list, as_index=False)[[i for i in df.columns if weight_str in i]].agg('sum')\n",
    "    df1['margin_of_error'] = apply_wts(df1, weight_str)*critical_val\n",
    "\n",
    "    return df1[col_list+['PWEIGHT','margin_of_error']]\n"
   ]
  },
  {
   "cell_type": "code",
   "execution_count": 162,
   "metadata": {},
   "outputs": [
    {
     "output_type": "stream",
     "name": "stdout",
     "text": [
      "<Response [200]>\n",
      "<Response [200]>\n",
      "<Response [200]>\n",
      "<Response [200]>\n",
      "<Response [200]>\n",
      "<Response [200]>\n",
      "<Response [200]>\n",
      "<Response [200]>\n",
      "<Response [200]>\n"
     ]
    }
   ],
   "source": [
    "df = get_puf_data(13,21)\n",
    "q_map_df = pd.read_csv('data/question_mapping.csv')\n",
    "r_map_df = pd.read_csv('data/response_mapping.csv')"
   ]
  },
  {
   "source": [
    "## Metro by Race and Hispanic Ethnicity"
   ],
   "cell_type": "markdown",
   "metadata": {}
  },
  {
   "cell_type": "code",
   "execution_count": 163,
   "metadata": {},
   "outputs": [
    {
     "output_type": "execute_result",
     "data": {
      "text/plain": [
       "      WEEK  EST_MSA  RRACE  RHISPANIC    PWEIGHT  margin_of_error\n",
       "0       13  12060.0      1          1  2182081.0         122200.0\n",
       "1       13  12060.0      1          2   290540.0          68354.0\n",
       "2       13  12060.0      2          1  1615628.0          97670.0\n",
       "3       13  12060.0      2          2    64870.0          39410.0\n",
       "4       13  12060.0      3          1   225291.0          46002.0\n",
       "...    ...      ...    ...        ...        ...              ...\n",
       "1069    21  47900.0      2          2    42260.0          18473.0\n",
       "1070    21  47900.0      3          1   417412.0          75438.0\n",
       "1071    21  47900.0      3          2    26007.0          15270.0\n",
       "1072    21  47900.0      4          1   160349.0          35108.0\n",
       "1073    21  47900.0      4          2    81164.0          44273.0\n",
       "\n",
       "[1074 rows x 6 columns]"
      ],
      "text/html": "<div>\n<style scoped>\n    .dataframe tbody tr th:only-of-type {\n        vertical-align: middle;\n    }\n\n    .dataframe tbody tr th {\n        vertical-align: top;\n    }\n\n    .dataframe thead th {\n        text-align: right;\n    }\n</style>\n<table border=\"1\" class=\"dataframe\">\n  <thead>\n    <tr style=\"text-align: right;\">\n      <th></th>\n      <th>WEEK</th>\n      <th>EST_MSA</th>\n      <th>RRACE</th>\n      <th>RHISPANIC</th>\n      <th>PWEIGHT</th>\n      <th>margin_of_error</th>\n    </tr>\n  </thead>\n  <tbody>\n    <tr>\n      <th>0</th>\n      <td>13</td>\n      <td>12060.0</td>\n      <td>1</td>\n      <td>1</td>\n      <td>2182081.0</td>\n      <td>122200.0</td>\n    </tr>\n    <tr>\n      <th>1</th>\n      <td>13</td>\n      <td>12060.0</td>\n      <td>1</td>\n      <td>2</td>\n      <td>290540.0</td>\n      <td>68354.0</td>\n    </tr>\n    <tr>\n      <th>2</th>\n      <td>13</td>\n      <td>12060.0</td>\n      <td>2</td>\n      <td>1</td>\n      <td>1615628.0</td>\n      <td>97670.0</td>\n    </tr>\n    <tr>\n      <th>3</th>\n      <td>13</td>\n      <td>12060.0</td>\n      <td>2</td>\n      <td>2</td>\n      <td>64870.0</td>\n      <td>39410.0</td>\n    </tr>\n    <tr>\n      <th>4</th>\n      <td>13</td>\n      <td>12060.0</td>\n      <td>3</td>\n      <td>1</td>\n      <td>225291.0</td>\n      <td>46002.0</td>\n    </tr>\n    <tr>\n      <th>...</th>\n      <td>...</td>\n      <td>...</td>\n      <td>...</td>\n      <td>...</td>\n      <td>...</td>\n      <td>...</td>\n    </tr>\n    <tr>\n      <th>1069</th>\n      <td>21</td>\n      <td>47900.0</td>\n      <td>2</td>\n      <td>2</td>\n      <td>42260.0</td>\n      <td>18473.0</td>\n    </tr>\n    <tr>\n      <th>1070</th>\n      <td>21</td>\n      <td>47900.0</td>\n      <td>3</td>\n      <td>1</td>\n      <td>417412.0</td>\n      <td>75438.0</td>\n    </tr>\n    <tr>\n      <th>1071</th>\n      <td>21</td>\n      <td>47900.0</td>\n      <td>3</td>\n      <td>2</td>\n      <td>26007.0</td>\n      <td>15270.0</td>\n    </tr>\n    <tr>\n      <th>1072</th>\n      <td>21</td>\n      <td>47900.0</td>\n      <td>4</td>\n      <td>1</td>\n      <td>160349.0</td>\n      <td>35108.0</td>\n    </tr>\n    <tr>\n      <th>1073</th>\n      <td>21</td>\n      <td>47900.0</td>\n      <td>4</td>\n      <td>2</td>\n      <td>81164.0</td>\n      <td>44273.0</td>\n    </tr>\n  </tbody>\n</table>\n<p>1074 rows × 6 columns</p>\n</div>"
     },
     "metadata": {},
     "execution_count": 163
    }
   ],
   "source": [
    "foo = freq_crosstab(df,['WEEK','EST_MSA','RRACE','RHISPANIC'],'PWEIGHT',1.645)\n",
    "foo.round(0) #rounded for readability"
   ]
  },
  {
   "cell_type": "code",
   "execution_count": null,
   "metadata": {},
   "outputs": [],
   "source": []
  }
 ]
}
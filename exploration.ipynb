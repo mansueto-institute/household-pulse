{
 "metadata": {
  "language_info": {
   "codemirror_mode": {
    "name": "ipython",
    "version": 3
   },
   "file_extension": ".py",
   "mimetype": "text/x-python",
   "name": "python",
   "nbconvert_exporter": "python",
   "pygments_lexer": "ipython3",
   "version": "3.9.1-final"
  },
  "orig_nbformat": 2,
  "kernelspec": {
   "name": "python3",
   "display_name": "Python 3.9.1 64-bit ('virtual_env')",
   "metadata": {
    "interpreter": {
     "hash": "ae520ac60bc58bf887efe3d8b884bb1031c488da0214529d17ecae648d5e994e"
    }
   }
  }
 },
 "nbformat": 4,
 "nbformat_minor": 2,
 "cells": [
  {
   "cell_type": "code",
   "execution_count": 1,
   "metadata": {},
   "outputs": [],
   "source": [
    "import zipfile\n",
    "import tempfile\n",
    "import requests\n",
    "import os\n",
    "import numpy as np\n",
    "import pandas as pd"
   ]
  },
  {
   "cell_type": "code",
   "execution_count": 2,
   "metadata": {},
   "outputs": [
    {
     "output_type": "stream",
     "name": "stdout",
     "text": [
      "<Response [200]>\n"
     ]
    }
   ],
   "source": [
    "def get_puf_data(first_week, last_week):\n",
    "    '''\n",
    "    download puf files for the given weeks and concatenate the datasets\n",
    "    '''\n",
    "    df = pd.DataFrame()\n",
    "    for i in range(first_week,last_week+1):\n",
    "        file_str = \"pulse2020_puf_{}.csv\".format(i)\n",
    "        url_str = \"https://www2.census.gov/programs-surveys/demo/datasets/hhp/2020/wk{w}/HPS_Week{w}_PUF_CSV.zip\".format(w=i)\n",
    "        week_df = download_url(url_str, file_str,i)\n",
    "        df = pd.concat([df,week_df])\n",
    "    return df\n",
    "\n",
    "\n",
    "def download_url(url_str,file_str, week, chunk_size=128):\n",
    "    '''\n",
    "    download puf, avoid intermediate save to disk\n",
    "    '''\n",
    "    df = pd.DataFrame()\n",
    "    r = requests.get(url_str)\n",
    "    print(r)\n",
    "    #temp directory rather than file to accomodate windows users\n",
    "    with tempfile.TemporaryDirectory() as td:\n",
    "        f_name = os.path.join(td, 'week_{}'.format(week))\n",
    "        with open(f_name, 'wb') as fh:\n",
    "            for chunk in r.iter_content(chunk_size=chunk_size):\n",
    "                fh.write(chunk)\n",
    "        zf = zipfile.ZipFile(f_name)\n",
    "        df = pd.read_csv(zf.open(file_str))\n",
    "        zf.close()\n",
    "        r.close()\n",
    "    return df\n",
    "\n",
    "#columns for crosstabs 'EST_MSA','RRACE', 'RHISPANIC', 'EEDUC', 'EGENDER', 'TBIRTH_YEAR'\n",
    "#It might be work normalizing at the metro level before running crosstabs\n",
    "puf_data = get_puf_data(13,13)\n",
    "y = puf_data[['EST_MSA','PWEIGHT','HWEIGHT','RRACE', 'RHISPANIC', 'EEDUC', 'EGENDER', 'TBIRTH_YEAR']]\n",
    "df1 = (y.groupby(['EST_MSA', 'RRACE', 'RHISPANIC'], as_index=False).PWEIGHT.agg({'weighted_freq': 'sum', 'sigma': np.std}))\n",
    "df1['std_err'] = df1.sigma/np.sqrt(df1.weighted_freq)"
   ]
  },
  {
   "cell_type": "code",
   "execution_count": null,
   "metadata": {},
   "outputs": [],
   "source": []
  }
 ]
}